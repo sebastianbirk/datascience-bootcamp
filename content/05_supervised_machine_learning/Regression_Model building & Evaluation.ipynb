{
 "cells": [
  {
   "cell_type": "code",
   "execution_count": 1,
   "id": "ab0795ce",
   "metadata": {},
   "outputs": [],
   "source": [
    "#importing required libraries for data analysis\n",
    "import pandas as pd\n",
    "import numpy as np\n",
    "import time\n",
    "\n",
    "# Import models from sklearn\n",
    "from sklearn.model_selection import train_test_split, StratifiedKFold, KFold, cross_val_score\n",
    "from sklearn.model_selection import GridSearchCV,RandomizedSearchCV\n",
    "\n",
    "from sklearn.linear_model import LinearRegression,ElasticNet,Ridge,Lasso,LassoCV,RidgeCV\n",
    "from sklearn.svm import SVR,LinearSVR\n",
    "from sklearn.tree import DecisionTreeRegressor\n",
    "from sklearn.ensemble import RandomForestRegressor,GradientBoostingRegressor, AdaBoostRegressor, BaggingRegressor\n",
    "#import xgboost as xgb\n",
    "from xgboost import XGBRegressor\n",
    "\n",
    "# Import evaluation metrics\n",
    "from sklearn.model_selection import cross_val_score\n",
    "from sklearn.metrics import mean_absolute_error, mean_squared_error, mean_squared_log_error, r2_score\n",
    "\n",
    "#Visuals\n",
    "import matplotlib.pyplot as plt"
   ]
  },
  {
   "cell_type": "code",
   "execution_count": 2,
   "id": "00120efe",
   "metadata": {},
   "outputs": [
    {
     "name": "stdout",
     "output_type": "stream",
     "text": [
      "(896, 31) (427, 31) (896, 1) (427, 1)\n"
     ]
    }
   ],
   "source": [
    "# Read the training & test datasets from Part1-Preprocessing part\n",
    "\n",
    "X_train=pd.read_csv(\"../datasets/regression/processed/X_train.csv\", index_col=0)\n",
    "y_train=pd.read_csv(\"../datasets/regression/processed/y_train.csv\", index_col=0)\n",
    "                    \n",
    "X_test=pd.read_csv(\"../datasets/regression/processed/X_test.csv\", index_col=0)\n",
    "y_test=pd.read_csv(\"../datasets/regression/processed/y_test.csv\", index_col=0)\n",
    "\n",
    "print(X_train.shape,X_test.shape,y_train.shape,y_test.shape)"
   ]
  },
  {
   "cell_type": "markdown",
   "id": "706aae3d",
   "metadata": {},
   "source": [
    "## 1. Linear Regression Model"
   ]
  },
  {
   "cell_type": "code",
   "execution_count": 3,
   "id": "d5c27ae6",
   "metadata": {},
   "outputs": [],
   "source": [
    "# Importing the Linear Regression Model\n",
    "lrmodel = LinearRegression()\n",
    "start = time.time()\n",
    "#Train the model\n",
    "lrmodel.fit(X_train, y_train)\n",
    "stop = time.time()\n",
    "\n",
    "# predicting the y test observations\n",
    "y_pred = lrmodel.predict(X_test)\n",
    "y_train_pred = lrmodel.predict(X_train)"
   ]
  },
  {
   "cell_type": "markdown",
   "id": "af14f1b0",
   "metadata": {},
   "source": [
    "### Equation"
   ]
  },
  {
   "cell_type": "code",
   "execution_count": 4,
   "id": "aaff96e4",
   "metadata": {},
   "outputs": [
    {
     "name": "stdout",
     "output_type": "stream",
     "text": [
      "y = 10.502825840975369  + \n",
      "0.012285168703952415 * Electrical_SBrkr  + 0.0001283896359290694 * WoodDeckSF  + -0.002342708471204961 * RemodAge  + 0.04645802522500953 * LotConfig_CulDSac  + 1.1349484969964197e-05 * LotArea  + 0.045334947684577166 * Foundation_PConc  + 0.040918295818069224 * BsmtExposure_Gd  + 0.00022119813603870431 * OpenPorchSF  + 0.08682727487321786 * OverallQual  + -0.054948675820363085 * Fence_GdWo  + -0.01495278000070394 * Foundation_BrkTil  + -0.03586949717590473 * Electrical_FuseF  + 0.0014611459249766637 * LotFrontage_median  + 1.2246473970369746e-07 * BedroomAbvGr  + 0.05737703685109008 * FullBath  + 0.00030697404359095583 * firstFlrSF  + 0.1097217678938994 * HouseStyle_2Story  + 0.01038912124775211 * LotConfig_Inside  + 0.08723385758709468 * hasGarage  + -0.025087261222466167 * BsmtExposure_No  + -0.04852865577796969 * BldgType_Twnhs  + 0.06445508235829026 * HalfBath  + 0.06960575018945706 * BsmtFullBath  + 0.11157513670116886 * CentralAir_Y  + -0.12495289788526748 * Heating_Grav  + -0.008280266074324952 * Fence_MnPrv  + 0.06654713847509489 * HouseStyle_1.5Fin  + 0.005758773386436061 * BldgType_2fmCon  + 0.04616951571242808 * Fireplaces  + 0.00011093508775050652 * GarageArea  + -0.008473068860578742 * BsmtExposure_Av  +  E\n"
     ]
    }
   ],
   "source": [
    "# y = beta0 + beta1 * X1 + beta2 * X3 +...+ E\n",
    "intercept= lrmodel.intercept_[0]\n",
    "coefficients=lrmodel.coef_[0]\n",
    "print(\"y =\",intercept,\" + \")\n",
    "for i in range(len(coefficients)):\n",
    "    print(coefficients[i],\"*\",X_train.columns[i],\" + \", end=\"\")\n",
    "print(\" E\")"
   ]
  },
  {
   "cell_type": "code",
   "execution_count": 5,
   "id": "7cf9351b",
   "metadata": {},
   "outputs": [
    {
     "data": {
      "text/plain": [
       "Text(0, 0.5, 'y_pred_manual')"
      ]
     },
     "execution_count": 5,
     "metadata": {},
     "output_type": "execute_result"
    },
    {
     "data": {
      "image/png": "[encoded data removed]",
      "text/plain": [
       "<Figure size 432x288 with 1 Axes>"
      ]
     },
     "metadata": {
      "needs_background": "light"
     },
     "output_type": "display_data"
    }
   ],
   "source": [
    "# predicting the y test observations manually\n",
    "y_pred_mn=intercept + np.sum(coefficients * X_test, axis=1)\n",
    "plt.scatter(y_pred_mn,y_pred)\n",
    "plt.xlabel(\"y_pred\")\n",
    "plt.ylabel(\"y_pred_manual\")"
   ]
  },
  {
   "cell_type": "markdown",
   "id": "676d9034",
   "metadata": {},
   "source": [
    "### Feature Importance "
   ]
  },
  {
   "cell_type": "markdown",
   "id": "a42c44e6",
   "metadata": {},
   "source": [
    "In regression analysis, the magnitude of your coefficients is not necessarily related to their importance. The most common criteria to determine the importance of independent variables in regression analysis are p-values. Small p-values imply high levels of importance, whereas high p-values mean that a variable is not statistically significant. "
   ]
  },
  {
   "cell_type": "code",
   "execution_count": 6,
   "id": "86bab4b2",
   "metadata": {},
   "outputs": [],
   "source": [
    "stdevs= []\n",
    "for i in X_train.columns:\n",
    "    stdev=X_train[i].std()\n",
    "    stdevs.append(stdev)"
   ]
  },
  {
   "cell_type": "code",
   "execution_count": 7,
   "id": "5ff8c7a1",
   "metadata": {},
   "outputs": [],
   "source": [
    "features=pd.DataFrame(coefficients, X_train.columns, columns=['coef'])\n",
    "\n",
    "#normalized feature importance \n",
    "features['importance']=np.array(stdevs)*features[\"coef\"].abs()/max(np.array(stdevs)*features[\"coef\"].abs()) \n",
    "features = features.sort_values(by = \"importance\")\n",
    "features.reset_index(inplace=True)\n",
    "features = features.rename(columns = {'index':'features'})"
   ]
  },
  {
   "cell_type": "code",
   "execution_count": 8,
   "id": "db8eb16b",
   "metadata": {},
   "outputs": [
    {
     "data": {
      "text/plain": [
       "Text(0.5, 0, 'Feature Importance')"
      ]
     },
     "execution_count": 8,
     "metadata": {},
     "output_type": "execute_result"
    },
    {
     "data": {
      "image/png": "[encoded data removed]",
      "text/plain": [
       "<Figure size 720x360 with 1 Axes>"
      ]
     },
     "metadata": {
      "needs_background": "light"
     },
     "output_type": "display_data"
    }
   ],
   "source": [
    "#Feature Importance\n",
    "plt.figure(figsize=(10,5))\n",
    "plt.barh(features['features'][-15:], features['importance'][-15:])\n",
    "plt.xlabel(\"Feature Importance\")"
   ]
  },
  {
   "cell_type": "markdown",
   "id": "099e003e",
   "metadata": {},
   "source": [
    "### Model Evaluation"
   ]
  },
  {
   "cell_type": "code",
   "execution_count": 9,
   "id": "c98bb61b",
   "metadata": {},
   "outputs": [
    {
     "data": {
      "text/html": [
       "<div>\n",
       "<style scoped>\n",
       "    .dataframe tbody tr th:only-of-type {\n",
       "        vertical-align: middle;\n",
       "    }\n",
       "\n",
       "    .dataframe tbody tr th {\n",
       "        vertical-align: top;\n",
       "    }\n",
       "\n",
       "    .dataframe thead th {\n",
       "        text-align: right;\n",
       "    }\n",
       "</style>\n",
       "<table border=\"1\" class=\"dataframe\">\n",
       "  <thead>\n",
       "    <tr style=\"text-align: right;\">\n",
       "      <th></th>\n",
       "      <th>Model</th>\n",
       "      <th>Train Score</th>\n",
       "      <th>Test Score/R-Square</th>\n",
       "      <th>Adjusted R^2</th>\n",
       "      <th>MAE</th>\n",
       "      <th>MSE</th>\n",
       "      <th>RMSE</th>\n",
       "      <th>Training Time(s)</th>\n",
       "      <th>Important Features</th>\n",
       "    </tr>\n",
       "  </thead>\n",
       "  <tbody>\n",
       "    <tr>\n",
       "      <th>0</th>\n",
       "      <td>Linear Regression</td>\n",
       "      <td>0.842</td>\n",
       "      <td>0.826</td>\n",
       "      <td>0.812</td>\n",
       "      <td>0.11</td>\n",
       "      <td>0.026</td>\n",
       "      <td>0.161</td>\n",
       "      <td>0.008184</td>\n",
       "      <td>[OverallQual, firstFlrSF, HouseStyle_2Story]</td>\n",
       "    </tr>\n",
       "  </tbody>\n",
       "</table>\n",
       "</div>"
      ],
      "text/plain": [
       "               Model  Train Score  Test Score/R-Square  Adjusted R^2   MAE  \\\n",
       "0  Linear Regression        0.842                0.826         0.812  0.11   \n",
       "\n",
       "     MSE   RMSE  Training Time(s)  \\\n",
       "0  0.026  0.161          0.008184   \n",
       "\n",
       "                             Important Features  \n",
       "0  [OverallQual, firstFlrSF, HouseStyle_2Story]  "
      ]
     },
     "execution_count": 9,
     "metadata": {},
     "output_type": "execute_result"
    }
   ],
   "source": [
    "#Model Evaluation\n",
    "lrm_trscore = round(lrmodel.score(X_train, y_train),3)\n",
    "lrm_tescore = round(lrmodel.score(X_test, y_test),3)\n",
    "lrm_r2= round(r2_score(y_test,y_pred),3) #coefficient of determination\n",
    "lrm_adj= round(1 - (1-lrm_r2)*(len(y_test)-1)/(len(y_test)-len(X_test.columns)-1),3)\n",
    "lrm_mae= round(mean_absolute_error(y_test,y_pred),3)                      \n",
    "lrm_mse= round(mean_squared_error(y_test,y_pred),3)\n",
    "lrm_rmse= round(np.sqrt(mean_squared_error(y_test,y_pred)),3)\n",
    "lrm_feat=np.array(features['features'][::-1][:3])\n",
    "#Training time of the model\n",
    "lrm_time=stop-start\n",
    "\n",
    "results = pd.DataFrame([['Linear Regression', lrm_trscore, lrm_tescore, lrm_adj, lrm_mae, lrm_mse, lrm_rmse, lrm_time, lrm_feat]],\n",
    "               columns = ['Model', 'Train Score', 'Test Score/R-Square','Adjusted R^2', 'MAE', 'MSE', 'RMSE', \"Training Time(s)\",\"Important Features\"])\n",
    "pd.set_option('display.max_colwidth', 100)\n",
    "results"
   ]
  },
  {
   "cell_type": "code",
   "execution_count": 10,
   "id": "aa486688",
   "metadata": {},
   "outputs": [
    {
     "data": {
      "text/plain": [
       "<matplotlib.collections.PathCollection at 0x7f4394c27af0>"
      ]
     },
     "execution_count": 10,
     "metadata": {},
     "output_type": "execute_result"
    },
    {
     "data": {
      "image/png": "[encoded data removed]",
      "text/plain": [
       "<Figure size 432x432 with 1 Axes>"
      ]
     },
     "metadata": {
      "needs_background": "light"
     },
     "output_type": "display_data"
    }
   ],
   "source": [
    "# Test vs Prediction\n",
    "plt.figure(figsize=(6,6))\n",
    "plt.scatter(y_test,y_pred)"
   ]
  },
  {
   "cell_type": "markdown",
   "id": "7e004474",
   "metadata": {},
   "source": [
    "## 2. Ridge Regression"
   ]
  },
  {
   "cell_type": "code",
   "execution_count": 11,
   "id": "595bb8b8",
   "metadata": {},
   "outputs": [],
   "source": [
    "# Importing the Ridge Regression\n",
    "ridge_reg = Ridge() \n",
    "start = time.time()\n",
    "ridge_reg.fit(X_train, y_train)\n",
    "stop = time.time()\n",
    "\n",
    "# predicting the y test observations\n",
    "y_pred = ridge_reg.predict(X_test)\n",
    "y_train_pred = ridge_reg.predict(X_train)"
   ]
  },
  {
   "cell_type": "markdown",
   "id": "c5ea208a",
   "metadata": {},
   "source": [
    "### Feature Importance "
   ]
  },
  {
   "cell_type": "code",
   "execution_count": 12,
   "id": "fe029ac2",
   "metadata": {},
   "outputs": [
    {
     "data": {
      "text/plain": [
       "Text(0.5, 0, 'Feature Importance')"
      ]
     },
     "execution_count": 12,
     "metadata": {},
     "output_type": "execute_result"
    },
    {
     "data": {
      "image/png": "[encoded data removed]",
      "text/plain": [
       "<Figure size 720x360 with 1 Axes>"
      ]
     },
     "metadata": {
      "needs_background": "light"
     },
     "output_type": "display_data"
    }
   ],
   "source": [
    "coefficients=ridge_reg.coef_[0]\n",
    "#coefficients\n",
    "#X_train.columns\n",
    "importances = pd.DataFrame(data={\n",
    "    'Feature': X_train.columns,\n",
    "    'Importance': coefficients\n",
    "})\n",
    "importances['Importance']=importances['Importance'].abs()\n",
    "importances = importances.sort_values(by='Importance')\n",
    "\n",
    "plt.figure(figsize=(10,5))\n",
    "plt.barh( importances['Feature'][-15:],importances['Importance'][-15:])\n",
    "plt.xlabel(\"Feature Importance\")"
   ]
  },
  {
   "cell_type": "markdown",
   "id": "730700d6",
   "metadata": {},
   "source": [
    "### Model Evaluation"
   ]
  },
  {
   "cell_type": "code",
   "execution_count": 13,
   "id": "038c75f4",
   "metadata": {},
   "outputs": [
    {
     "data": {
      "text/html": [
       "<div>\n",
       "<style scoped>\n",
       "    .dataframe tbody tr th:only-of-type {\n",
       "        vertical-align: middle;\n",
       "    }\n",
       "\n",
       "    .dataframe tbody tr th {\n",
       "        vertical-align: top;\n",
       "    }\n",
       "\n",
       "    .dataframe thead th {\n",
       "        text-align: right;\n",
       "    }\n",
       "</style>\n",
       "<table border=\"1\" class=\"dataframe\">\n",
       "  <thead>\n",
       "    <tr style=\"text-align: right;\">\n",
       "      <th></th>\n",
       "      <th>Model</th>\n",
       "      <th>Train Score</th>\n",
       "      <th>Test Score/R-Square</th>\n",
       "      <th>Adjusted R^2</th>\n",
       "      <th>MAE</th>\n",
       "      <th>MSE</th>\n",
       "      <th>RMSE</th>\n",
       "      <th>Training Time(s)</th>\n",
       "      <th>Important Features</th>\n",
       "    </tr>\n",
       "  </thead>\n",
       "  <tbody>\n",
       "    <tr>\n",
       "      <th>0</th>\n",
       "      <td>Ridge</td>\n",
       "      <td>0.842</td>\n",
       "      <td>0.826</td>\n",
       "      <td>0.812</td>\n",
       "      <td>0.11</td>\n",
       "      <td>0.026</td>\n",
       "      <td>0.161</td>\n",
       "      <td>0.004909</td>\n",
       "      <td>[CentralAir_Y, HouseStyle_2Story, Heating_Grav]</td>\n",
       "    </tr>\n",
       "  </tbody>\n",
       "</table>\n",
       "</div>"
      ],
      "text/plain": [
       "   Model  Train Score  Test Score/R-Square  Adjusted R^2   MAE    MSE   RMSE  \\\n",
       "0  Ridge        0.842                0.826         0.812  0.11  0.026  0.161   \n",
       "\n",
       "   Training Time(s)                               Important Features  \n",
       "0          0.004909  [CentralAir_Y, HouseStyle_2Story, Heating_Grav]  "
      ]
     },
     "execution_count": 13,
     "metadata": {},
     "output_type": "execute_result"
    }
   ],
   "source": [
    "#Model Evaluation\n",
    "ridge_trscore = round(ridge_reg.score(X_train, y_train),3)\n",
    "ridge_tescore = round(ridge_reg.score(X_test, y_test),3)\n",
    "ridge_r2= round(r2_score(y_test,y_pred),3)\n",
    "ridge_adj= round(1 - (1-ridge_r2)*(len(y_test)-1)/(len(y_test)-len(X_test.columns)-1),3)\n",
    "ridge_mae= round(mean_absolute_error(y_test,y_pred),3)                      \n",
    "ridge_mse= round(mean_squared_error(y_test,y_pred),3)\n",
    "ridge_rmse= round(np.sqrt(mean_squared_error(y_test,y_pred)),3)\n",
    "ridge_feat=np.array(importances['Feature'][::-1][:3])\n",
    "#Training time of the model\n",
    "ridge_time=stop-start\n",
    "\n",
    "results = pd.DataFrame([['Ridge', ridge_trscore, ridge_tescore, ridge_adj, ridge_mae, ridge_mse, ridge_rmse, ridge_time, ridge_feat]],\n",
    "               columns = ['Model', 'Train Score', 'Test Score/R-Square','Adjusted R^2', 'MAE', 'MSE', 'RMSE', \"Training Time(s)\",\"Important Features\"])\n",
    "results"
   ]
  },
  {
   "cell_type": "code",
   "execution_count": 14,
   "id": "d2c1a14d",
   "metadata": {},
   "outputs": [
    {
     "data": {
      "text/plain": [
       "<matplotlib.collections.PathCollection at 0x7f4394b302e0>"
      ]
     },
     "execution_count": 14,
     "metadata": {},
     "output_type": "execute_result"
    },
    {
     "data": {
      "image/png": "[encoded data removed]",
      "text/plain": [
       "<Figure size 432x432 with 1 Axes>"
      ]
     },
     "metadata": {
      "needs_background": "light"
     },
     "output_type": "display_data"
    }
   ],
   "source": [
    "# Test vs Prediction\n",
    "plt.figure(figsize=(6,6))\n",
    "plt.scatter(y_test,y_pred)"
   ]
  },
  {
   "cell_type": "markdown",
   "id": "5a8f9bfe",
   "metadata": {},
   "source": [
    "## 3. Lasso Regression"
   ]
  },
  {
   "cell_type": "code",
   "execution_count": 15,
   "id": "28548602",
   "metadata": {},
   "outputs": [],
   "source": [
    "# Importing the LASSO Regression\n",
    "lasso_reg = Lasso() \n",
    "start = time.time()\n",
    "\n",
    "#fitting\n",
    "lasso_reg.fit(X_train, y_train)\n",
    "stop = time.time()\n",
    "\n",
    "# predicting the y test observations\n",
    "y_pred = lasso_reg.predict(X_test)\n",
    "y_train_pred = lasso_reg.predict(X_train)"
   ]
  },
  {
   "cell_type": "markdown",
   "id": "5e5b6de7",
   "metadata": {},
   "source": [
    "### Model Evaluation"
   ]
  },
  {
   "cell_type": "code",
   "execution_count": 16,
   "id": "e0ecc00c",
   "metadata": {},
   "outputs": [
    {
     "data": {
      "text/html": [
       "<div>\n",
       "<style scoped>\n",
       "    .dataframe tbody tr th:only-of-type {\n",
       "        vertical-align: middle;\n",
       "    }\n",
       "\n",
       "    .dataframe tbody tr th {\n",
       "        vertical-align: top;\n",
       "    }\n",
       "\n",
       "    .dataframe thead th {\n",
       "        text-align: right;\n",
       "    }\n",
       "</style>\n",
       "<table border=\"1\" class=\"dataframe\">\n",
       "  <thead>\n",
       "    <tr style=\"text-align: right;\">\n",
       "      <th></th>\n",
       "      <th>Model</th>\n",
       "      <th>Train Score</th>\n",
       "      <th>Test Score/R-Square</th>\n",
       "      <th>Adjusted R^2</th>\n",
       "      <th>MAE</th>\n",
       "      <th>MSE</th>\n",
       "      <th>RMSE</th>\n",
       "      <th>Training Time(s)</th>\n",
       "      <th>Important Features</th>\n",
       "    </tr>\n",
       "  </thead>\n",
       "  <tbody>\n",
       "    <tr>\n",
       "      <th>0</th>\n",
       "      <td>Lasso</td>\n",
       "      <td>0.635</td>\n",
       "      <td>0.579</td>\n",
       "      <td>0.546</td>\n",
       "      <td>0.171</td>\n",
       "      <td>0.063</td>\n",
       "      <td>0.25</td>\n",
       "      <td>0.00868</td>\n",
       "      <td></td>\n",
       "    </tr>\n",
       "  </tbody>\n",
       "</table>\n",
       "</div>"
      ],
      "text/plain": [
       "   Model  Train Score  Test Score/R-Square  Adjusted R^2    MAE    MSE  RMSE  \\\n",
       "0  Lasso        0.635                0.579         0.546  0.171  0.063  0.25   \n",
       "\n",
       "   Training Time(s) Important Features  \n",
       "0           0.00868                     "
      ]
     },
     "execution_count": 16,
     "metadata": {},
     "output_type": "execute_result"
    }
   ],
   "source": [
    "#Model Evaluation\n",
    "lasso_trscore = round(lasso_reg.score(X_train, y_train),3)\n",
    "lasso_tescore = round(lasso_reg.score(X_test, y_test),3)\n",
    "lasso_r2= round(r2_score(y_test,y_pred),3)\n",
    "lasso_adj= round(1 - (1-lasso_r2)*(len(y_test)-1)/(len(y_test)-len(X_test.columns)-1),3)\n",
    "lasso_mae= round(mean_absolute_error(y_test,y_pred),3)                      \n",
    "lasso_mse= round(mean_squared_error(y_test,y_pred),3)\n",
    "lasso_rmse= round(np.sqrt(mean_squared_error(y_test,y_pred)),3)\n",
    "lasso_feat=\"\"\n",
    "#Training time of the model\n",
    "lasso_time=stop-start\n",
    "\n",
    "results = pd.DataFrame([['Lasso', lasso_trscore, lasso_tescore, lasso_adj, lasso_mae, lasso_mse, lasso_rmse, lasso_time, lasso_feat]],\n",
    "               columns = ['Model', 'Train Score', 'Test Score/R-Square','Adjusted R^2', 'MAE', 'MSE', 'RMSE', \"Training Time(s)\",\"Important Features\"])\n",
    "results"
   ]
  },
  {
   "cell_type": "code",
   "execution_count": 17,
   "id": "0ac1fd69",
   "metadata": {},
   "outputs": [
    {
     "data": {
      "text/plain": [
       "<matplotlib.collections.PathCollection at 0x7f4394a01730>"
      ]
     },
     "execution_count": 17,
     "metadata": {},
     "output_type": "execute_result"
    },
    {
     "data": {
      "image/png": "[encoded data removed]",
      "text/plain": [
       "<Figure size 432x432 with 1 Axes>"
      ]
     },
     "metadata": {
      "needs_background": "light"
     },
     "output_type": "display_data"
    }
   ],
   "source": [
    "# Test vs Prediction\n",
    "plt.figure(figsize=(6,6))\n",
    "plt.scatter(y_test,y_pred)"
   ]
  },
  {
   "cell_type": "markdown",
   "id": "e45165f6",
   "metadata": {},
   "source": [
    "## 4. ElasticNet"
   ]
  },
  {
   "cell_type": "code",
   "execution_count": 18,
   "id": "8e6c2392",
   "metadata": {},
   "outputs": [],
   "source": [
    "# Importing the ElasticNet Regression\n",
    "eNet_reg = ElasticNet()\n",
    "start = time.time()\n",
    "\n",
    "#fitting\n",
    "eNet_reg.fit(X_train, y_train)\n",
    "stop = time.time()\n",
    "\n",
    "# predicting the y test observations\n",
    "y_pred = eNet_reg.predict(X_test)\n",
    "y_train_pred = eNet_reg.predict(X_train)"
   ]
  },
  {
   "cell_type": "code",
   "execution_count": 19,
   "id": "7d4c53f6",
   "metadata": {},
   "outputs": [
    {
     "data": {
      "text/html": [
       "<div>\n",
       "<style scoped>\n",
       "    .dataframe tbody tr th:only-of-type {\n",
       "        vertical-align: middle;\n",
       "    }\n",
       "\n",
       "    .dataframe tbody tr th {\n",
       "        vertical-align: top;\n",
       "    }\n",
       "\n",
       "    .dataframe thead th {\n",
       "        text-align: right;\n",
       "    }\n",
       "</style>\n",
       "<table border=\"1\" class=\"dataframe\">\n",
       "  <thead>\n",
       "    <tr style=\"text-align: right;\">\n",
       "      <th></th>\n",
       "      <th>Model</th>\n",
       "      <th>Train Score</th>\n",
       "      <th>Test Score/R-Square</th>\n",
       "      <th>Adjusted R^2</th>\n",
       "      <th>MAE</th>\n",
       "      <th>MSE</th>\n",
       "      <th>RMSE</th>\n",
       "      <th>Training Time(s)</th>\n",
       "      <th>Important Features</th>\n",
       "    </tr>\n",
       "  </thead>\n",
       "  <tbody>\n",
       "    <tr>\n",
       "      <th>0</th>\n",
       "      <td>ElasticNet</td>\n",
       "      <td>0.651</td>\n",
       "      <td>0.583</td>\n",
       "      <td>0.55</td>\n",
       "      <td>0.171</td>\n",
       "      <td>0.062</td>\n",
       "      <td>0.249</td>\n",
       "      <td>0.012299</td>\n",
       "      <td></td>\n",
       "    </tr>\n",
       "  </tbody>\n",
       "</table>\n",
       "</div>"
      ],
      "text/plain": [
       "        Model  Train Score  Test Score/R-Square  Adjusted R^2    MAE    MSE  \\\n",
       "0  ElasticNet        0.651                0.583          0.55  0.171  0.062   \n",
       "\n",
       "    RMSE  Training Time(s) Important Features  \n",
       "0  0.249          0.012299                     "
      ]
     },
     "execution_count": 19,
     "metadata": {},
     "output_type": "execute_result"
    }
   ],
   "source": [
    "#Model Evaluation\n",
    "enet_trscore = round(eNet_reg.score(X_train, y_train),3)\n",
    "enet_tescore = round(eNet_reg.score(X_test, y_test),3)\n",
    "enet_r2= round(r2_score(y_test,y_pred),3)\n",
    "enet_adj= round(1 - (1-enet_r2)*(len(y_test)-1)/(len(y_test)-len(X_test.columns)-1),3)\n",
    "enet_mae= round(mean_absolute_error(y_test,y_pred),3)                      \n",
    "enet_mse= round(mean_squared_error(y_test,y_pred),3)\n",
    "enet_rmse= round(np.sqrt(mean_squared_error(y_test,y_pred)),3)\n",
    "enet_feat=\"\"\n",
    "#Training time of the model\n",
    "enet_time=stop-start\n",
    "\n",
    "results = pd.DataFrame([['ElasticNet', enet_trscore, enet_tescore, enet_adj, enet_mae, enet_mse, enet_rmse, enet_time, enet_feat]],\n",
    "               columns = ['Model', 'Train Score', 'Test Score/R-Square','Adjusted R^2', 'MAE', 'MSE', 'RMSE', \"Training Time(s)\",\"Important Features\"])\n",
    "results"
   ]
  },
  {
   "cell_type": "code",
   "execution_count": 20,
   "id": "daddfa2c",
   "metadata": {},
   "outputs": [
    {
     "data": {
      "text/plain": [
       "<matplotlib.collections.PathCollection at 0x7f4394aa6f70>"
      ]
     },
     "execution_count": 20,
     "metadata": {},
     "output_type": "execute_result"
    },
    {
     "data": {
      "image/png": "[encoded data removed]",
      "text/plain": [
       "<Figure size 432x432 with 1 Axes>"
      ]
     },
     "metadata": {
      "needs_background": "light"
     },
     "output_type": "display_data"
    }
   ],
   "source": [
    "# Test vs Prediction\n",
    "plt.figure(figsize=(6,6))\n",
    "plt.scatter(y_test,y_pred)"
   ]
  },
  {
   "cell_type": "markdown",
   "id": "f4c5ebc7",
   "metadata": {},
   "source": [
    "## 5. Decision Tree Regressor"
   ]
  },
  {
   "cell_type": "code",
   "execution_count": 21,
   "id": "6276d299",
   "metadata": {},
   "outputs": [],
   "source": [
    "# Importing the Decision Tree Regressor\n",
    "dtr = DecisionTreeRegressor()\n",
    "start = time.time()\n",
    "#Fitting data into Decision Tree Regressor\n",
    "dtr.fit(X_train, y_train)\n",
    "stop = time.time()\n",
    "\n",
    "# predicting the y test observations\n",
    "y_pred = dtr.predict(X_test)\n",
    "y_train_pred = dtr.predict(X_train)"
   ]
  },
  {
   "cell_type": "code",
   "execution_count": 22,
   "id": "649eb934",
   "metadata": {
    "scrolled": true
   },
   "outputs": [
    {
     "data": {
      "text/plain": [
       "Text(0.5, 0, 'Feature Importance')"
      ]
     },
     "execution_count": 22,
     "metadata": {},
     "output_type": "execute_result"
    },
    {
     "data": {
      "image/png": "[encoded data removed]",
      "text/plain": [
       "<Figure size 720x360 with 1 Axes>"
      ]
     },
     "metadata": {
      "needs_background": "light"
     },
     "output_type": "display_data"
    }
   ],
   "source": [
    "#Feature Importance\n",
    "sort = dtr.feature_importances_.argsort()\n",
    "plt.figure(figsize=(10,5))\n",
    "plt.barh(X_train.columns[sort[-15:]], dtr.feature_importances_[sort[-15:]])\n",
    "plt.xlabel(\"Feature Importance\")"
   ]
  },
  {
   "cell_type": "code",
   "execution_count": 23,
   "id": "9423b0ef",
   "metadata": {},
   "outputs": [
    {
     "data": {
      "text/html": [
       "<div>\n",
       "<style scoped>\n",
       "    .dataframe tbody tr th:only-of-type {\n",
       "        vertical-align: middle;\n",
       "    }\n",
       "\n",
       "    .dataframe tbody tr th {\n",
       "        vertical-align: top;\n",
       "    }\n",
       "\n",
       "    .dataframe thead th {\n",
       "        text-align: right;\n",
       "    }\n",
       "</style>\n",
       "<table border=\"1\" class=\"dataframe\">\n",
       "  <thead>\n",
       "    <tr style=\"text-align: right;\">\n",
       "      <th></th>\n",
       "      <th>Model</th>\n",
       "      <th>Train Score</th>\n",
       "      <th>Test Score/R-Square</th>\n",
       "      <th>Adjusted R^2</th>\n",
       "      <th>MAE</th>\n",
       "      <th>MSE</th>\n",
       "      <th>RMSE</th>\n",
       "      <th>Training Time(s)</th>\n",
       "      <th>Important Features</th>\n",
       "    </tr>\n",
       "  </thead>\n",
       "  <tbody>\n",
       "    <tr>\n",
       "      <th>0</th>\n",
       "      <td>Decision Trees</td>\n",
       "      <td>1.0</td>\n",
       "      <td>0.602</td>\n",
       "      <td>0.571</td>\n",
       "      <td>0.177</td>\n",
       "      <td>0.059</td>\n",
       "      <td>0.243</td>\n",
       "      <td>0.006759</td>\n",
       "      <td>{'OverallQual': 0.519, 'GarageArea': 0.141, 'firstFlrSF': 0.075}</td>\n",
       "    </tr>\n",
       "  </tbody>\n",
       "</table>\n",
       "</div>"
      ],
      "text/plain": [
       "            Model  Train Score  Test Score/R-Square  Adjusted R^2    MAE  \\\n",
       "0  Decision Trees          1.0                0.602         0.571  0.177   \n",
       "\n",
       "     MSE   RMSE  Training Time(s)  \\\n",
       "0  0.059  0.243          0.006759   \n",
       "\n",
       "                                                 Important Features  \n",
       "0  {'OverallQual': 0.519, 'GarageArea': 0.141, 'firstFlrSF': 0.075}  "
      ]
     },
     "execution_count": 23,
     "metadata": {},
     "output_type": "execute_result"
    }
   ],
   "source": [
    "#Model Evaluation\n",
    "\n",
    "dtr_trscore = round(dtr.score(X_train, y_train),3)\n",
    "dtr_tescore = round(dtr.score(X_test, y_test),3)\n",
    "dtr_r2= round(r2_score(y_test,y_pred),3)\n",
    "dtr_adj= round(1 - (1-dtr_r2)*(len(y_test)-1)/(len(y_test)-len(X_test.columns)-1),3)\n",
    "dtr_mae= round(mean_absolute_error(y_test,y_pred),3)                      \n",
    "dtr_mse= round(mean_squared_error(y_test,y_pred),3)\n",
    "dtr_rmse= round(np.sqrt(mean_squared_error(y_test,y_pred)),3)\n",
    "dtr_feat = dict(zip(X_train.columns[sort[::-1][:3]], np.round(dtr.feature_importances_[sort[::-1][:3]],3)))\n",
    "#Training time of the model\n",
    "dtr_time=stop-start\n",
    "\n",
    "results = pd.DataFrame([['Decision Trees', dtr_trscore, dtr_tescore, dtr_adj, dtr_mae, dtr_mse, dtr_rmse, dtr_time, dtr_feat]],\n",
    "               columns = ['Model', 'Train Score', 'Test Score/R-Square','Adjusted R^2', 'MAE', 'MSE', 'RMSE', \"Training Time(s)\",\"Important Features\"])\n",
    "results"
   ]
  },
  {
   "cell_type": "code",
   "execution_count": 24,
   "id": "dbd57abb",
   "metadata": {},
   "outputs": [
    {
     "data": {
      "text/plain": [
       "Text(0, 0.5, 'Actual')"
      ]
     },
     "execution_count": 24,
     "metadata": {},
     "output_type": "execute_result"
    },
    {
     "data": {
      "image/png": "[encoded data removed]",
      "text/plain": [
       "<Figure size 432x432 with 1 Axes>"
      ]
     },
     "metadata": {
      "needs_background": "light"
     },
     "output_type": "display_data"
    }
   ],
   "source": [
    "# Test vs Prediction\n",
    "plt.figure(figsize=(6,6))\n",
    "plt.scatter(y_test,y_pred)\n",
    "plt.xlabel(\"Prediction\")\n",
    "plt.ylabel(\"Actual\")"
   ]
  },
  {
   "cell_type": "markdown",
   "id": "f840cbe8",
   "metadata": {},
   "source": [
    "## 6. Bagging"
   ]
  },
  {
   "cell_type": "code",
   "execution_count": 25,
   "id": "6c459880",
   "metadata": {},
   "outputs": [
    {
     "name": "stderr",
     "output_type": "stream",
     "text": [
      "/home/neslihankeskin/miniconda3/envs/datascience-bootcamp/lib/python3.9/site-packages/sklearn/ensemble/_bagging.py:470: DataConversionWarning: A column-vector y was passed when a 1d array was expected. Please change the shape of y to (n_samples, ), for example using ravel().\n",
      "  return column_or_1d(y, warn=True)\n"
     ]
    }
   ],
   "source": [
    "# Importing the Bagging Regressor\n",
    "bag = BaggingRegressor(base_estimator=DecisionTreeRegressor()) #default base estimator is desicion tree\n",
    "start = time.time()\n",
    "#Fitting data into Bagging Regressor\n",
    "bag.fit(X_train, y_train)\n",
    "stop = time.time()\n",
    "\n",
    "# predicting the y test observations\n",
    "y_pred = bag.predict(X_test)\n",
    "y_train_pred = bag.predict(X_train)"
   ]
  },
  {
   "cell_type": "markdown",
   "id": "4aa41b68",
   "metadata": {},
   "source": [
    "### Feature Importance"
   ]
  },
  {
   "cell_type": "code",
   "execution_count": 26,
   "id": "89484594",
   "metadata": {},
   "outputs": [
    {
     "data": {
      "text/plain": [
       "Text(0.5, 1.0, 'Feature Importance')"
      ]
     },
     "execution_count": 26,
     "metadata": {},
     "output_type": "execute_result"
    },
    {
     "data": {
      "image/png": "[encoded data removed]",
      "text/plain": [
       "<Figure size 432x288 with 1 Axes>"
      ]
     },
     "metadata": {
      "needs_background": "light"
     },
     "output_type": "display_data"
    }
   ],
   "source": [
    "#avg of importance among all trees\n",
    "feature_importances = np.mean([\n",
    "    tree.feature_importances_ for tree in bag.estimators_\n",
    "], axis=0)\n",
    "sort=feature_importances.argsort()\n",
    "plt.barh(X_train.columns[sort[-15:]], feature_importances[sort[-15:]])\n",
    "plt.title('Feature Importance', size=15)"
   ]
  },
  {
   "cell_type": "code",
   "execution_count": 27,
   "id": "4b53ca0e",
   "metadata": {},
   "outputs": [
    {
     "data": {
      "text/plain": [
       "{'OverallQual': 0.487, 'GarageArea': 0.135, 'firstFlrSF': 0.088}"
      ]
     },
     "execution_count": 27,
     "metadata": {},
     "output_type": "execute_result"
    }
   ],
   "source": [
    "bag_feat=dict(zip(X_train.columns[sort[::-1][:3]], np.round(feature_importances[sort[::-1][:3]],3)))\n",
    "bag_feat"
   ]
  },
  {
   "cell_type": "code",
   "execution_count": 28,
   "id": "39bdf6f2",
   "metadata": {},
   "outputs": [
    {
     "data": {
      "text/plain": [
       "<matplotlib.collections.PathCollection at 0x7f438c7bc700>"
      ]
     },
     "execution_count": 28,
     "metadata": {},
     "output_type": "execute_result"
    },
    {
     "data": {
      "image/png": "[encoded data removed]",
      "text/plain": [
       "<Figure size 432x432 with 1 Axes>"
      ]
     },
     "metadata": {
      "needs_background": "light"
     },
     "output_type": "display_data"
    }
   ],
   "source": [
    "# Test vs Prediction\n",
    "plt.figure(figsize=(6,6))\n",
    "plt.scatter(y_test,y_pred)"
   ]
  },
  {
   "cell_type": "code",
   "execution_count": 29,
   "id": "5e805870",
   "metadata": {},
   "outputs": [
    {
     "data": {
      "text/html": [
       "<div>\n",
       "<style scoped>\n",
       "    .dataframe tbody tr th:only-of-type {\n",
       "        vertical-align: middle;\n",
       "    }\n",
       "\n",
       "    .dataframe tbody tr th {\n",
       "        vertical-align: top;\n",
       "    }\n",
       "\n",
       "    .dataframe thead th {\n",
       "        text-align: right;\n",
       "    }\n",
       "</style>\n",
       "<table border=\"1\" class=\"dataframe\">\n",
       "  <thead>\n",
       "    <tr style=\"text-align: right;\">\n",
       "      <th></th>\n",
       "      <th>Model</th>\n",
       "      <th>Train Score</th>\n",
       "      <th>Test Score/R-Square</th>\n",
       "      <th>Adjusted R^2</th>\n",
       "      <th>MAE</th>\n",
       "      <th>MSE</th>\n",
       "      <th>RMSE</th>\n",
       "      <th>Training Time(s)</th>\n",
       "      <th>Important Features</th>\n",
       "    </tr>\n",
       "  </thead>\n",
       "  <tbody>\n",
       "    <tr>\n",
       "      <th>0</th>\n",
       "      <td>Bagging Regressor</td>\n",
       "      <td>0.961</td>\n",
       "      <td>0.81</td>\n",
       "      <td>0.795</td>\n",
       "      <td>0.12</td>\n",
       "      <td>0.028</td>\n",
       "      <td>0.168</td>\n",
       "      <td>0.035615</td>\n",
       "      <td>{'OverallQual': 0.487, 'GarageArea': 0.135, 'firstFlrSF': 0.088}</td>\n",
       "    </tr>\n",
       "  </tbody>\n",
       "</table>\n",
       "</div>"
      ],
      "text/plain": [
       "               Model  Train Score  Test Score/R-Square  Adjusted R^2   MAE  \\\n",
       "0  Bagging Regressor        0.961                 0.81         0.795  0.12   \n",
       "\n",
       "     MSE   RMSE  Training Time(s)  \\\n",
       "0  0.028  0.168          0.035615   \n",
       "\n",
       "                                                 Important Features  \n",
       "0  {'OverallQual': 0.487, 'GarageArea': 0.135, 'firstFlrSF': 0.088}  "
      ]
     },
     "execution_count": 29,
     "metadata": {},
     "output_type": "execute_result"
    }
   ],
   "source": [
    "#Model Evaluation\n",
    "bag_trscore = round(bag.score(X_train, y_train),3)\n",
    "bag_tescore = round(bag.score(X_test, y_test),3)\n",
    "bag_r2= round(r2_score(y_test,y_pred),3)\n",
    "bag_adj= round(1 - (1-bag_r2)*(len(y_test)-1)/(len(y_test)-len(X_test.columns)-1),3)\n",
    "bag_mae= round(mean_absolute_error(y_test,y_pred),3)                      \n",
    "bag_mse= round(mean_squared_error(y_test,y_pred),3)\n",
    "bag_rmse= round(np.sqrt(mean_squared_error(y_test,y_pred)),3)\n",
    "bag_feat=dict(zip(X_train.columns[sort[::-1][:3]], np.round(feature_importances[sort[::-1][:3]],3)))\n",
    "#Training time of the model\n",
    "bag_time=stop-start\n",
    "\n",
    "results = pd.DataFrame([['Bagging Regressor', bag_trscore, bag_tescore, bag_adj, bag_mae, bag_mse, bag_rmse, bag_time, bag_feat]],\n",
    "               columns = ['Model', 'Train Score', 'Test Score/R-Square','Adjusted R^2', 'MAE', 'MSE', 'RMSE', \"Training Time(s)\",\"Important Features\"])\n",
    "results\n",
    "\n",
    "#[lrm_trscore,lrm_tescore,lrm_r2,lrm_mae,lrm_mse,lrm_rmse,lrm_time]\n",
    "#[lrm_time, ridge_time, lasso_time, enet_time, dtr_time, rfr_time, gbr_time, xgr_time, ada_time]"
   ]
  },
  {
   "cell_type": "markdown",
   "id": "fdd78886",
   "metadata": {},
   "source": [
    "## 7. Random Forest"
   ]
  },
  {
   "cell_type": "code",
   "execution_count": 30,
   "id": "e1d4f64d",
   "metadata": {},
   "outputs": [
    {
     "name": "stdout",
     "output_type": "stream",
     "text": [
      "1659947921.5244753\n"
     ]
    },
    {
     "name": "stderr",
     "output_type": "stream",
     "text": [
      "/tmp/ipykernel_2781/831225596.py:6: DataConversionWarning: A column-vector y was passed when a 1d array was expected. Please change the shape of y to (n_samples,), for example using ravel().\n",
      "  rfr.fit(X_train, y_train)\n"
     ]
    },
    {
     "name": "stdout",
     "output_type": "stream",
     "text": [
      "1659947921.8420873\n",
      "dif 0.3176119327545166\n"
     ]
    }
   ],
   "source": [
    "# Importing the Random Forest Regressor\n",
    "rfr= RandomForestRegressor()\n",
    "start = time.time()\n",
    "print(start)\n",
    "#Fitting data into Random Forest Regressor\n",
    "rfr.fit(X_train, y_train)\n",
    "stop = time.time()\n",
    "print(stop)\n",
    "print(\"dif\",stop-start)\n",
    "# predicting the y test observations\n",
    "y_pred = rfr.predict(X_test)\n",
    "y_train_pred = rfr.predict(X_train)"
   ]
  },
  {
   "cell_type": "code",
   "execution_count": 31,
   "id": "c217c779",
   "metadata": {
    "scrolled": true
   },
   "outputs": [
    {
     "data": {
      "text/plain": [
       "Text(0.5, 1.0, 'Feature Importance')"
      ]
     },
     "execution_count": 31,
     "metadata": {},
     "output_type": "execute_result"
    },
    {
     "data": {
      "image/png": "[encoded data removed]",
      "text/plain": [
       "<Figure size 576x288 with 1 Axes>"
      ]
     },
     "metadata": {
      "needs_background": "light"
     },
     "output_type": "display_data"
    }
   ],
   "source": [
    "#Feature Importance\n",
    "sort = rfr.feature_importances_.argsort()\n",
    "plt.figure(figsize=(8,4))\n",
    "plt.barh(X_train.columns[sort[-15:]], rfr.feature_importances_[sort[-15:]])\n",
    "plt.title('Feature Importance', size=15)\n",
    "#plt.xlabel(\"Feature Importance\")"
   ]
  },
  {
   "cell_type": "code",
   "execution_count": 32,
   "id": "f1eafa44",
   "metadata": {},
   "outputs": [
    {
     "data": {
      "text/plain": [
       "<matplotlib.collections.PathCollection at 0x7f438c72bc10>"
      ]
     },
     "execution_count": 32,
     "metadata": {},
     "output_type": "execute_result"
    },
    {
     "data": {
      "image/png": "[encoded data removed]",
      "text/plain": [
       "<Figure size 432x432 with 1 Axes>"
      ]
     },
     "metadata": {
      "needs_background": "light"
     },
     "output_type": "display_data"
    }
   ],
   "source": [
    "# Test vs Prediction\n",
    "plt.figure(figsize=(6,6))\n",
    "plt.scatter(y_test,y_pred)"
   ]
  },
  {
   "cell_type": "code",
   "execution_count": 33,
   "id": "3a42199b",
   "metadata": {},
   "outputs": [
    {
     "data": {
      "text/html": [
       "<div>\n",
       "<style scoped>\n",
       "    .dataframe tbody tr th:only-of-type {\n",
       "        vertical-align: middle;\n",
       "    }\n",
       "\n",
       "    .dataframe tbody tr th {\n",
       "        vertical-align: top;\n",
       "    }\n",
       "\n",
       "    .dataframe thead th {\n",
       "        text-align: right;\n",
       "    }\n",
       "</style>\n",
       "<table border=\"1\" class=\"dataframe\">\n",
       "  <thead>\n",
       "    <tr style=\"text-align: right;\">\n",
       "      <th></th>\n",
       "      <th>Model</th>\n",
       "      <th>Train Score</th>\n",
       "      <th>Test Score/R-Square</th>\n",
       "      <th>Adjusted R^2</th>\n",
       "      <th>MAE</th>\n",
       "      <th>MSE</th>\n",
       "      <th>RMSE</th>\n",
       "      <th>Training Time(s)</th>\n",
       "      <th>Important Features</th>\n",
       "    </tr>\n",
       "  </thead>\n",
       "  <tbody>\n",
       "    <tr>\n",
       "      <th>0</th>\n",
       "      <td>Random Forest</td>\n",
       "      <td>0.97</td>\n",
       "      <td>0.831</td>\n",
       "      <td>0.818</td>\n",
       "      <td>0.114</td>\n",
       "      <td>0.025</td>\n",
       "      <td>0.159</td>\n",
       "      <td>0.317612</td>\n",
       "      <td>{'OverallQual': 0.497, 'GarageArea': 0.141, 'firstFlrSF': 0.083}</td>\n",
       "    </tr>\n",
       "  </tbody>\n",
       "</table>\n",
       "</div>"
      ],
      "text/plain": [
       "           Model  Train Score  Test Score/R-Square  Adjusted R^2    MAE  \\\n",
       "0  Random Forest         0.97                0.831         0.818  0.114   \n",
       "\n",
       "     MSE   RMSE  Training Time(s)  \\\n",
       "0  0.025  0.159          0.317612   \n",
       "\n",
       "                                                 Important Features  \n",
       "0  {'OverallQual': 0.497, 'GarageArea': 0.141, 'firstFlrSF': 0.083}  "
      ]
     },
     "execution_count": 33,
     "metadata": {},
     "output_type": "execute_result"
    }
   ],
   "source": [
    "#Model Evaluation\n",
    "rfr_trscore = round(rfr.score(X_train, y_train),3)\n",
    "rfr_tescore = round(rfr.score(X_test, y_test),3)\n",
    "rfr_r2= round(r2_score(y_test,y_pred),3)\n",
    "rfr_adj= round(1 - (1-rfr_r2)*(len(y_test)-1)/(len(y_test)-len(X_test.columns)-1),3)\n",
    "rfr_mae= round(mean_absolute_error(y_test,y_pred),3)                      \n",
    "rfr_mse= round(mean_squared_error(y_test,y_pred),3)\n",
    "rfr_rmse= round(np.sqrt(mean_squared_error(y_test,y_pred)),3)\n",
    "rfr_feat = dict(zip(X_train.columns[sort[::-1][:3]], np.round(rfr.feature_importances_[sort[::-1][:3]],3)))\n",
    "#Training time of the model\n",
    "rfr_time=stop-start\n",
    "\n",
    "results = pd.DataFrame([['Random Forest', rfr_trscore, rfr_tescore, rfr_adj, rfr_mae, rfr_mse, rfr_rmse, rfr_time, rfr_feat]],\n",
    "               columns = ['Model', 'Train Score', 'Test Score/R-Square','Adjusted R^2', 'MAE', 'MSE', 'RMSE', \"Training Time(s)\",\"Important Features\"])\n",
    "results"
   ]
  },
  {
   "cell_type": "markdown",
   "id": "7e0680f4",
   "metadata": {},
   "source": [
    "## 8. Gradient Boosting"
   ]
  },
  {
   "cell_type": "code",
   "execution_count": 34,
   "id": "5371cbf3",
   "metadata": {},
   "outputs": [
    {
     "name": "stderr",
     "output_type": "stream",
     "text": [
      "/home/neslihankeskin/miniconda3/envs/datascience-bootcamp/lib/python3.9/site-packages/sklearn/ensemble/_gb.py:570: DataConversionWarning: A column-vector y was passed when a 1d array was expected. Please change the shape of y to (n_samples, ), for example using ravel().\n",
      "  y = column_or_1d(y, warn=True)\n"
     ]
    }
   ],
   "source": [
    "# Importing the Gradient Boosting Regressor\n",
    "gbr = GradientBoostingRegressor()\n",
    "start = time.time()\n",
    "#Fitting data into Gradient Boosting Regressor\n",
    "gbr.fit(X_train, y_train)\n",
    "stop = time.time()\n",
    "\n",
    "# predicting the y test observations\n",
    "y_pred = gbr.predict(X_test)\n",
    "y_train_pred = gbr.predict(X_train)"
   ]
  },
  {
   "cell_type": "code",
   "execution_count": 35,
   "id": "4a09beb5",
   "metadata": {
    "scrolled": true
   },
   "outputs": [
    {
     "data": {
      "text/plain": [
       "Text(0.5, 1.0, 'Feature Importance')"
      ]
     },
     "execution_count": 35,
     "metadata": {},
     "output_type": "execute_result"
    },
    {
     "data": {
      "image/png": "[encoded data removed]",
      "text/plain": [
       "<Figure size 576x288 with 1 Axes>"
      ]
     },
     "metadata": {
      "needs_background": "light"
     },
     "output_type": "display_data"
    }
   ],
   "source": [
    "#Feature Importance\n",
    "sort = gbr.feature_importances_.argsort()\n",
    "plt.figure(figsize=(8,4))\n",
    "plt.barh(X_train.columns[sort[-15:]], gbr.feature_importances_[sort[-15:]])\n",
    "plt.title('Feature Importance', size=15)\n",
    "#plt.xlabel(\"Feature Importance\")"
   ]
  },
  {
   "cell_type": "code",
   "execution_count": 36,
   "id": "a9ae2c00",
   "metadata": {},
   "outputs": [
    {
     "data": {
      "text/plain": [
       "<matplotlib.collections.PathCollection at 0x7f438c5d9cd0>"
      ]
     },
     "execution_count": 36,
     "metadata": {},
     "output_type": "execute_result"
    },
    {
     "data": {
      "image/png": "[encoded data removed]",
      "text/plain": [
       "<Figure size 432x432 with 1 Axes>"
      ]
     },
     "metadata": {
      "needs_background": "light"
     },
     "output_type": "display_data"
    }
   ],
   "source": [
    "# Test vs Prediction\n",
    "plt.figure(figsize=(6,6))\n",
    "plt.scatter(y_test,y_pred)"
   ]
  },
  {
   "cell_type": "code",
   "execution_count": 37,
   "id": "d3d79f84",
   "metadata": {},
   "outputs": [
    {
     "data": {
      "text/html": [
       "<div>\n",
       "<style scoped>\n",
       "    .dataframe tbody tr th:only-of-type {\n",
       "        vertical-align: middle;\n",
       "    }\n",
       "\n",
       "    .dataframe tbody tr th {\n",
       "        vertical-align: top;\n",
       "    }\n",
       "\n",
       "    .dataframe thead th {\n",
       "        text-align: right;\n",
       "    }\n",
       "</style>\n",
       "<table border=\"1\" class=\"dataframe\">\n",
       "  <thead>\n",
       "    <tr style=\"text-align: right;\">\n",
       "      <th></th>\n",
       "      <th>Model</th>\n",
       "      <th>Train Score</th>\n",
       "      <th>Test Score/R-Square</th>\n",
       "      <th>Adjusted R^2</th>\n",
       "      <th>MAE</th>\n",
       "      <th>MSE</th>\n",
       "      <th>RMSE</th>\n",
       "      <th>Training Time(s)</th>\n",
       "      <th>Important Features</th>\n",
       "    </tr>\n",
       "  </thead>\n",
       "  <tbody>\n",
       "    <tr>\n",
       "      <th>0</th>\n",
       "      <td>Gradient Boosting</td>\n",
       "      <td>0.922</td>\n",
       "      <td>0.854</td>\n",
       "      <td>0.843</td>\n",
       "      <td>0.104</td>\n",
       "      <td>0.022</td>\n",
       "      <td>0.147</td>\n",
       "      <td>0.106499</td>\n",
       "      <td>{'OverallQual': 0.442, 'GarageArea': 0.111, 'firstFlrSF': 0.09}</td>\n",
       "    </tr>\n",
       "  </tbody>\n",
       "</table>\n",
       "</div>"
      ],
      "text/plain": [
       "               Model  Train Score  Test Score/R-Square  Adjusted R^2    MAE  \\\n",
       "0  Gradient Boosting        0.922                0.854         0.843  0.104   \n",
       "\n",
       "     MSE   RMSE  Training Time(s)  \\\n",
       "0  0.022  0.147          0.106499   \n",
       "\n",
       "                                                Important Features  \n",
       "0  {'OverallQual': 0.442, 'GarageArea': 0.111, 'firstFlrSF': 0.09}  "
      ]
     },
     "execution_count": 37,
     "metadata": {},
     "output_type": "execute_result"
    }
   ],
   "source": [
    "#Model Evaluation\n",
    "gbr_trscore = round(gbr.score(X_train, y_train),3)\n",
    "gbr_tescore = round(gbr.score(X_test, y_test),3)\n",
    "gbr_r2= round(r2_score(y_test,y_pred),3)\n",
    "gbr_adj= round(1 - (1-gbr_r2)*(len(y_test)-1)/(len(y_test)-len(X_test.columns)-1),3)\n",
    "gbr_mae= round(mean_absolute_error(y_test,y_pred),3)                      \n",
    "gbr_mse= round(mean_squared_error(y_test,y_pred),3)\n",
    "gbr_rmse= round(np.sqrt(mean_squared_error(y_test,y_pred)),3)\n",
    "gbr_feat = dict(zip(X_train.columns[sort[::-1][:3]], np.round(gbr.feature_importances_[sort[::-1][:3]],3)))\n",
    "#Training time of the model\n",
    "gbr_time=stop-start\n",
    "results = pd.DataFrame([['Gradient Boosting', gbr_trscore, gbr_tescore, gbr_adj, gbr_mae, gbr_mse, gbr_rmse, gbr_time, gbr_feat]],\n",
    "               columns = ['Model', 'Train Score', 'Test Score/R-Square','Adjusted R^2', 'MAE', 'MSE', 'RMSE', \"Training Time(s)\",\"Important Features\"])\n",
    "results"
   ]
  },
  {
   "cell_type": "markdown",
   "id": "ea188d9b",
   "metadata": {},
   "source": [
    "## 9. XG Boosting"
   ]
  },
  {
   "cell_type": "code",
   "execution_count": 38,
   "id": "af44e1ef",
   "metadata": {},
   "outputs": [],
   "source": [
    "# Importing the XG Boosting Regressor\n",
    "xgb = XGBRegressor()\n",
    "start = time.time()\n",
    "#Fitting data into XG Boosting Regressor\n",
    "xgb.fit(X_train, y_train)\n",
    "stop = time.time()\n",
    "\n",
    "# predicting the y test observations\n",
    "y_pred = xgb.predict(X_test)\n",
    "y_train_pred = xgb.predict(X_train)"
   ]
  },
  {
   "cell_type": "code",
   "execution_count": 39,
   "id": "63b94a96",
   "metadata": {
    "scrolled": true
   },
   "outputs": [
    {
     "data": {
      "text/plain": [
       "Text(0.5, 1.0, 'Feature Importance')"
      ]
     },
     "execution_count": 39,
     "metadata": {},
     "output_type": "execute_result"
    },
    {
     "data": {
      "image/png": "[encoded data removed]",
      "text/plain": [
       "<Figure size 576x288 with 1 Axes>"
      ]
     },
     "metadata": {
      "needs_background": "light"
     },
     "output_type": "display_data"
    }
   ],
   "source": [
    "#Feature Importance\n",
    "sort = xgb.feature_importances_.argsort()\n",
    "plt.figure(figsize=(8,4))\n",
    "plt.barh(X_train.columns[sort[-15:]], xgb.feature_importances_[sort[-15:]])\n",
    "plt.title('Feature Importance', size=15)"
   ]
  },
  {
   "cell_type": "code",
   "execution_count": 40,
   "id": "1e5e8b35",
   "metadata": {},
   "outputs": [
    {
     "data": {
      "text/plain": [
       "<matplotlib.collections.PathCollection at 0x7f438c5644c0>"
      ]
     },
     "execution_count": 40,
     "metadata": {},
     "output_type": "execute_result"
    },
    {
     "data": {
      "image/png": "[encoded data removed]",
      "text/plain": [
       "<Figure size 432x432 with 1 Axes>"
      ]
     },
     "metadata": {
      "needs_background": "light"
     },
     "output_type": "display_data"
    }
   ],
   "source": [
    "# Test vs Prediction\n",
    "plt.figure(figsize=(6,6))\n",
    "plt.scatter(y_test,y_pred)"
   ]
  },
  {
   "cell_type": "code",
   "execution_count": 41,
   "id": "2bb5882a",
   "metadata": {},
   "outputs": [
    {
     "data": {
      "text/html": [
       "<div>\n",
       "<style scoped>\n",
       "    .dataframe tbody tr th:only-of-type {\n",
       "        vertical-align: middle;\n",
       "    }\n",
       "\n",
       "    .dataframe tbody tr th {\n",
       "        vertical-align: top;\n",
       "    }\n",
       "\n",
       "    .dataframe thead th {\n",
       "        text-align: right;\n",
       "    }\n",
       "</style>\n",
       "<table border=\"1\" class=\"dataframe\">\n",
       "  <thead>\n",
       "    <tr style=\"text-align: right;\">\n",
       "      <th></th>\n",
       "      <th>Model</th>\n",
       "      <th>Train Score</th>\n",
       "      <th>Test Score/R-Square</th>\n",
       "      <th>Adjusted R^2</th>\n",
       "      <th>MAE</th>\n",
       "      <th>MSE</th>\n",
       "      <th>RMSE</th>\n",
       "      <th>Training Time(s)</th>\n",
       "      <th>Important Features</th>\n",
       "    </tr>\n",
       "  </thead>\n",
       "  <tbody>\n",
       "    <tr>\n",
       "      <th>0</th>\n",
       "      <td>XGB</td>\n",
       "      <td>1.0</td>\n",
       "      <td>0.82</td>\n",
       "      <td>0.806</td>\n",
       "      <td>0.12</td>\n",
       "      <td>0.027</td>\n",
       "      <td>0.163</td>\n",
       "      <td>0.219412</td>\n",
       "      <td>{'FullBath': 0.217, 'OverallQual': 0.146, 'CentralAir_Y': 0.137}</td>\n",
       "    </tr>\n",
       "  </tbody>\n",
       "</table>\n",
       "</div>"
      ],
      "text/plain": [
       "  Model  Train Score  Test Score/R-Square  Adjusted R^2   MAE    MSE   RMSE  \\\n",
       "0   XGB          1.0                 0.82         0.806  0.12  0.027  0.163   \n",
       "\n",
       "   Training Time(s)  \\\n",
       "0          0.219412   \n",
       "\n",
       "                                                 Important Features  \n",
       "0  {'FullBath': 0.217, 'OverallQual': 0.146, 'CentralAir_Y': 0.137}  "
      ]
     },
     "execution_count": 41,
     "metadata": {},
     "output_type": "execute_result"
    }
   ],
   "source": [
    "#Model Evaluation\n",
    "xgb_trscore = round(xgb.score(X_train, y_train),3)\n",
    "xgb_tescore = round(xgb.score(X_test, y_test),3)\n",
    "xgb_r2= round(r2_score(y_test,y_pred),3)\n",
    "xgb_adj= round(1 - (1-xgb_r2)*(len(y_test)-1)/(len(y_test)-len(X_test.columns)-1),3)\n",
    "xgb_mae= round(mean_absolute_error(y_test,y_pred),3)                      \n",
    "xgb_mse= round(mean_squared_error(y_test,y_pred),3)\n",
    "xgb_rmse= round(np.sqrt(mean_squared_error(y_test,y_pred)),3)\n",
    "xgb_feat=dict(zip(X_train.columns[sort[::-1][:3]], np.round(xgb.feature_importances_[sort[::-1][:3]],3)))\n",
    "\n",
    "#Training time of the model\n",
    "xgb_time=stop-start\n",
    "\n",
    "results = pd.DataFrame([['XGB', xgb_trscore, xgb_tescore, xgb_adj, xgb_mae, xgb_mse, xgb_rmse, xgb_time, xgb_feat]],\n",
    "               columns = ['Model', 'Train Score', 'Test Score/R-Square','Adjusted R^2', 'MAE', 'MSE', 'RMSE', \"Training Time(s)\",\"Important Features\"])\n",
    "results"
   ]
  },
  {
   "cell_type": "markdown",
   "id": "a7874052",
   "metadata": {},
   "source": [
    "## 10. Ada Boosting"
   ]
  },
  {
   "cell_type": "code",
   "execution_count": 42,
   "id": "443b479e",
   "metadata": {},
   "outputs": [
    {
     "name": "stderr",
     "output_type": "stream",
     "text": [
      "/home/neslihankeskin/miniconda3/envs/datascience-bootcamp/lib/python3.9/site-packages/sklearn/utils/validation.py:1111: DataConversionWarning: A column-vector y was passed when a 1d array was expected. Please change the shape of y to (n_samples, ), for example using ravel().\n",
      "  y = column_or_1d(y, warn=True)\n"
     ]
    }
   ],
   "source": [
    "# Importing the Ada Boosting Regressor\n",
    "ada = AdaBoostRegressor()\n",
    "start = time.time()\n",
    "#Fitting data into Ada Boosting Regressor\n",
    "ada.fit(X_train, y_train)\n",
    "stop = time.time()\n",
    "\n",
    "# predicting the y test observations\n",
    "y_pred = ada.predict(X_test)\n",
    "y_train_pred = ada.predict(X_train)"
   ]
  },
  {
   "cell_type": "code",
   "execution_count": 43,
   "id": "4961426a",
   "metadata": {
    "scrolled": true
   },
   "outputs": [
    {
     "data": {
      "text/plain": [
       "Text(0.5, 1.0, 'Feature Importance')"
      ]
     },
     "execution_count": 43,
     "metadata": {},
     "output_type": "execute_result"
    },
    {
     "data": {
      "image/png": "[encoded data removed]",
      "text/plain": [
       "<Figure size 576x288 with 1 Axes>"
      ]
     },
     "metadata": {
      "needs_background": "light"
     },
     "output_type": "display_data"
    }
   ],
   "source": [
    "#Feature Importance\n",
    "sort = ada.feature_importances_.argsort()\n",
    "plt.figure(figsize=(8,4))\n",
    "plt.barh(X_train.columns[sort[-15:]], ada.feature_importances_[sort[-15:]])\n",
    "plt.title('Feature Importance', size=15)"
   ]
  },
  {
   "cell_type": "code",
   "execution_count": 44,
   "id": "fa8c0950",
   "metadata": {},
   "outputs": [
    {
     "data": {
      "text/plain": [
       "array([3.06714067e-02, 2.01160352e-02, 9.90664406e-02, 1.28025942e-04,\n",
       "       4.23655078e-02, 2.07936617e-02, 0.00000000e+00, 2.06593274e-02,\n",
       "       3.28690191e-01, 2.20897650e-02, 7.22102781e-03, 0.00000000e+00,\n",
       "       5.38631160e-02, 2.97745555e-02, 2.16162549e-02, 9.42727087e-02,\n",
       "       5.18729136e-03, 0.00000000e+00, 1.24363403e-03, 6.60266424e-04,\n",
       "       0.00000000e+00, 1.48502902e-02, 1.76969930e-02, 3.91533905e-02,\n",
       "       2.31139103e-04, 0.00000000e+00, 1.15873848e-03, 0.00000000e+00,\n",
       "       6.55686908e-02, 6.29215415e-02, 0.00000000e+00])"
      ]
     },
     "execution_count": 44,
     "metadata": {},
     "output_type": "execute_result"
    }
   ],
   "source": [
    "ada.feature_importances_"
   ]
  },
  {
   "cell_type": "code",
   "execution_count": 45,
   "id": "92611e36",
   "metadata": {},
   "outputs": [
    {
     "data": {
      "text/plain": [
       "<matplotlib.collections.PathCollection at 0x7f4384b85eb0>"
      ]
     },
     "execution_count": 45,
     "metadata": {},
     "output_type": "execute_result"
    },
    {
     "data": {
      "image/png": "[encoded data removed]",
      "text/plain": [
       "<Figure size 432x432 with 1 Axes>"
      ]
     },
     "metadata": {
      "needs_background": "light"
     },
     "output_type": "display_data"
    }
   ],
   "source": [
    "# Test vs Prediction\n",
    "plt.figure(figsize=(6,6))\n",
    "plt.scatter(y_test,y_pred)"
   ]
  },
  {
   "cell_type": "code",
   "execution_count": 46,
   "id": "f37c40f7",
   "metadata": {},
   "outputs": [
    {
     "data": {
      "text/html": [
       "<div>\n",
       "<style scoped>\n",
       "    .dataframe tbody tr th:only-of-type {\n",
       "        vertical-align: middle;\n",
       "    }\n",
       "\n",
       "    .dataframe tbody tr th {\n",
       "        vertical-align: top;\n",
       "    }\n",
       "\n",
       "    .dataframe thead th {\n",
       "        text-align: right;\n",
       "    }\n",
       "</style>\n",
       "<table border=\"1\" class=\"dataframe\">\n",
       "  <thead>\n",
       "    <tr style=\"text-align: right;\">\n",
       "      <th></th>\n",
       "      <th>Model</th>\n",
       "      <th>Train Score</th>\n",
       "      <th>Test Score/R-Square</th>\n",
       "      <th>Adjusted R^2</th>\n",
       "      <th>MAE</th>\n",
       "      <th>MSE</th>\n",
       "      <th>RMSE</th>\n",
       "      <th>Training Time(s)</th>\n",
       "      <th>Important Features</th>\n",
       "    </tr>\n",
       "  </thead>\n",
       "  <tbody>\n",
       "    <tr>\n",
       "      <th>0</th>\n",
       "      <td>ADA Boosting</td>\n",
       "      <td>0.799</td>\n",
       "      <td>0.751</td>\n",
       "      <td>0.731</td>\n",
       "      <td>0.146</td>\n",
       "      <td>0.037</td>\n",
       "      <td>0.192</td>\n",
       "      <td>0.079268</td>\n",
       "      <td>{'OverallQual': 0.329, 'RemodAge': 0.099, 'firstFlrSF': 0.094}</td>\n",
       "    </tr>\n",
       "  </tbody>\n",
       "</table>\n",
       "</div>"
      ],
      "text/plain": [
       "          Model  Train Score  Test Score/R-Square  Adjusted R^2    MAE    MSE  \\\n",
       "0  ADA Boosting        0.799                0.751         0.731  0.146  0.037   \n",
       "\n",
       "    RMSE  Training Time(s)  \\\n",
       "0  0.192          0.079268   \n",
       "\n",
       "                                               Important Features  \n",
       "0  {'OverallQual': 0.329, 'RemodAge': 0.099, 'firstFlrSF': 0.094}  "
      ]
     },
     "execution_count": 46,
     "metadata": {},
     "output_type": "execute_result"
    }
   ],
   "source": [
    "#Model Evaluation\n",
    "ada_trscore = round(ada.score(X_train, y_train),3)\n",
    "ada_tescore = round(ada.score(X_test, y_test),3)\n",
    "ada_r2= round(r2_score(y_test,y_pred),3)\n",
    "ada_adj= round(1 - (1-ada_r2)*(len(y_test)-1)/(len(y_test)-len(X_test.columns)-1),3)\n",
    "ada_mae= round(mean_absolute_error(y_test,y_pred),3)                      \n",
    "ada_mse= round(mean_squared_error(y_test,y_pred),3)\n",
    "ada_rmse= round(np.sqrt(mean_squared_error(y_test,y_pred)),3)\n",
    "ada_feat=dict(zip(X_train.columns[sort[::-1][:3]], np.round(ada.feature_importances_[sort[::-1][:3]],3)))\n",
    "#Training time of the model\n",
    "ada_time=stop-start\n",
    "\n",
    "results = pd.DataFrame([['ADA Boosting', ada_trscore, ada_tescore, ada_adj, ada_mae, ada_mse, ada_rmse, ada_time, ada_feat]],\n",
    "               columns = ['Model', 'Train Score', 'Test Score/R-Square','Adjusted R^2', 'MAE', 'MSE', 'RMSE', \"Training Time(s)\",\"Important Features\"])\n",
    "results\n",
    "\n",
    "#[lrm_trscore,lrm_tescore,lrm_r2,lrm_mae,lrm_mse,lrm_rmse,lrm_time]\n",
    "#[lrm_time, ridge_time, lasso_time, enet_time, dtr_time, rfr_time, gbr_time, xgr_time, ada_time]"
   ]
  },
  {
   "cell_type": "markdown",
   "id": "6b74a856",
   "metadata": {},
   "source": [
    "## Baseline Model Comprasion"
   ]
  },
  {
   "cell_type": "code",
   "execution_count": 47,
   "id": "b2dfd52d",
   "metadata": {},
   "outputs": [],
   "source": [
    "all_regressors = ['Linear Regression', 'Ridge', 'Lasso', 'ElasticNet', 'Decision Tree', \"Bagging Regressor\", 'Random Forest',\n",
    "                  'Gradient Boosting', 'XG Boosting', 'Ada Boosting']\n",
    "\n",
    "train_score= [lrm_trscore, ridge_trscore, lasso_trscore, enet_trscore, dtr_trscore, bag_trscore, rfr_trscore, gbr_trscore, xgb_trscore, ada_trscore]\n",
    "test_score = [lrm_tescore, ridge_tescore, lasso_tescore, enet_tescore, dtr_tescore, bag_tescore, rfr_tescore, gbr_tescore, xgb_tescore, ada_tescore]\n",
    "adj_rsq =    [lrm_adj, ridge_adj, lasso_adj, enet_adj, dtr_adj, bag_adj, rfr_adj, gbr_adj, xgb_adj, ada_adj]\n",
    "MAE =        [lrm_mae, ridge_mae, lasso_mae, enet_mae, dtr_mae, bag_mae, rfr_mae, gbr_mae, xgb_mae, ada_mae]\n",
    "MSE =        [lrm_mse, ridge_mse, lasso_mse, enet_mse, dtr_mse, bag_mse, rfr_mse, gbr_mse, xgb_mse, ada_mse]\n",
    "RMSE =       [lrm_rmse, ridge_rmse, lasso_rmse, enet_rmse, dtr_rmse, bag_rmse, rfr_rmse, gbr_rmse, xgb_rmse, ada_rmse]\n",
    "training_time=[lrm_time, ridge_time, lasso_time, enet_time, dtr_time, bag_time, rfr_time, gbr_time, xgb_time, ada_time]\n",
    "top_features=[lrm_feat,ridge_feat,lasso_feat,enet_feat,dtr_feat, bag_feat,rfr_feat,gbr_feat,xgb_feat,ada_feat]\n"
   ]
  },
  {
   "cell_type": "code",
   "execution_count": 48,
   "id": "240ee490",
   "metadata": {},
   "outputs": [
    {
     "data": {
      "text/html": [
       "<div>\n",
       "<style scoped>\n",
       "    .dataframe tbody tr th:only-of-type {\n",
       "        vertical-align: middle;\n",
       "    }\n",
       "\n",
       "    .dataframe tbody tr th {\n",
       "        vertical-align: top;\n",
       "    }\n",
       "\n",
       "    .dataframe thead th {\n",
       "        text-align: right;\n",
       "    }\n",
       "</style>\n",
       "<table border=\"1\" class=\"dataframe\">\n",
       "  <thead>\n",
       "    <tr style=\"text-align: right;\">\n",
       "      <th></th>\n",
       "      <th>Regressor</th>\n",
       "      <th>Train Score</th>\n",
       "      <th>Test Score</th>\n",
       "      <th>Adj. R Square</th>\n",
       "      <th>MAE</th>\n",
       "      <th>MSE</th>\n",
       "      <th>RMSE</th>\n",
       "      <th>Training Time</th>\n",
       "      <th>Most Important Features</th>\n",
       "    </tr>\n",
       "  </thead>\n",
       "  <tbody>\n",
       "    <tr>\n",
       "      <th>0</th>\n",
       "      <td>Linear Regression</td>\n",
       "      <td>0.842</td>\n",
       "      <td>0.826</td>\n",
       "      <td>0.812</td>\n",
       "      <td>0.110</td>\n",
       "      <td>0.026</td>\n",
       "      <td>0.161</td>\n",
       "      <td>0.008184</td>\n",
       "      <td>[OverallQual, firstFlrSF, HouseStyle_2Story]</td>\n",
       "    </tr>\n",
       "    <tr>\n",
       "      <th>1</th>\n",
       "      <td>Ridge</td>\n",
       "      <td>0.842</td>\n",
       "      <td>0.826</td>\n",
       "      <td>0.812</td>\n",
       "      <td>0.110</td>\n",
       "      <td>0.026</td>\n",
       "      <td>0.161</td>\n",
       "      <td>0.004909</td>\n",
       "      <td>[CentralAir_Y, HouseStyle_2Story, Heating_Grav]</td>\n",
       "    </tr>\n",
       "    <tr>\n",
       "      <th>2</th>\n",
       "      <td>Lasso</td>\n",
       "      <td>0.635</td>\n",
       "      <td>0.579</td>\n",
       "      <td>0.546</td>\n",
       "      <td>0.171</td>\n",
       "      <td>0.063</td>\n",
       "      <td>0.250</td>\n",
       "      <td>0.008680</td>\n",
       "      <td></td>\n",
       "    </tr>\n",
       "    <tr>\n",
       "      <th>3</th>\n",
       "      <td>ElasticNet</td>\n",
       "      <td>0.651</td>\n",
       "      <td>0.583</td>\n",
       "      <td>0.550</td>\n",
       "      <td>0.171</td>\n",
       "      <td>0.062</td>\n",
       "      <td>0.249</td>\n",
       "      <td>0.012299</td>\n",
       "      <td></td>\n",
       "    </tr>\n",
       "    <tr>\n",
       "      <th>4</th>\n",
       "      <td>Decision Tree</td>\n",
       "      <td>1.000</td>\n",
       "      <td>0.602</td>\n",
       "      <td>0.571</td>\n",
       "      <td>0.177</td>\n",
       "      <td>0.059</td>\n",
       "      <td>0.243</td>\n",
       "      <td>0.006759</td>\n",
       "      <td>{'OverallQual': 0.519, 'GarageArea': 0.141, 'firstFlrSF': 0.075}</td>\n",
       "    </tr>\n",
       "    <tr>\n",
       "      <th>5</th>\n",
       "      <td>Bagging Regressor</td>\n",
       "      <td>0.961</td>\n",
       "      <td>0.810</td>\n",
       "      <td>0.795</td>\n",
       "      <td>0.120</td>\n",
       "      <td>0.028</td>\n",
       "      <td>0.168</td>\n",
       "      <td>0.035615</td>\n",
       "      <td>{'OverallQual': 0.487, 'GarageArea': 0.135, 'firstFlrSF': 0.088}</td>\n",
       "    </tr>\n",
       "    <tr>\n",
       "      <th>6</th>\n",
       "      <td>Random Forest</td>\n",
       "      <td>0.970</td>\n",
       "      <td>0.831</td>\n",
       "      <td>0.818</td>\n",
       "      <td>0.114</td>\n",
       "      <td>0.025</td>\n",
       "      <td>0.159</td>\n",
       "      <td>0.317612</td>\n",
       "      <td>{'OverallQual': 0.497, 'GarageArea': 0.141, 'firstFlrSF': 0.083}</td>\n",
       "    </tr>\n",
       "    <tr>\n",
       "      <th>7</th>\n",
       "      <td>Gradient Boosting</td>\n",
       "      <td>0.922</td>\n",
       "      <td>0.854</td>\n",
       "      <td>0.843</td>\n",
       "      <td>0.104</td>\n",
       "      <td>0.022</td>\n",
       "      <td>0.147</td>\n",
       "      <td>0.106499</td>\n",
       "      <td>{'OverallQual': 0.442, 'GarageArea': 0.111, 'firstFlrSF': 0.09}</td>\n",
       "    </tr>\n",
       "    <tr>\n",
       "      <th>8</th>\n",
       "      <td>XG Boosting</td>\n",
       "      <td>1.000</td>\n",
       "      <td>0.820</td>\n",
       "      <td>0.806</td>\n",
       "      <td>0.120</td>\n",
       "      <td>0.027</td>\n",
       "      <td>0.163</td>\n",
       "      <td>0.219412</td>\n",
       "      <td>{'FullBath': 0.217, 'OverallQual': 0.146, 'CentralAir_Y': 0.137}</td>\n",
       "    </tr>\n",
       "    <tr>\n",
       "      <th>9</th>\n",
       "      <td>Ada Boosting</td>\n",
       "      <td>0.799</td>\n",
       "      <td>0.751</td>\n",
       "      <td>0.731</td>\n",
       "      <td>0.146</td>\n",
       "      <td>0.037</td>\n",
       "      <td>0.192</td>\n",
       "      <td>0.079268</td>\n",
       "      <td>{'OverallQual': 0.329, 'RemodAge': 0.099, 'firstFlrSF': 0.094}</td>\n",
       "    </tr>\n",
       "  </tbody>\n",
       "</table>\n",
       "</div>"
      ],
      "text/plain": [
       "           Regressor  Train Score  Test Score  Adj. R Square    MAE    MSE  \\\n",
       "0  Linear Regression        0.842       0.826          0.812  0.110  0.026   \n",
       "1              Ridge        0.842       0.826          0.812  0.110  0.026   \n",
       "2              Lasso        0.635       0.579          0.546  0.171  0.063   \n",
       "3         ElasticNet        0.651       0.583          0.550  0.171  0.062   \n",
       "4      Decision Tree        1.000       0.602          0.571  0.177  0.059   \n",
       "5  Bagging Regressor        0.961       0.810          0.795  0.120  0.028   \n",
       "6      Random Forest        0.970       0.831          0.818  0.114  0.025   \n",
       "7  Gradient Boosting        0.922       0.854          0.843  0.104  0.022   \n",
       "8        XG Boosting        1.000       0.820          0.806  0.120  0.027   \n",
       "9       Ada Boosting        0.799       0.751          0.731  0.146  0.037   \n",
       "\n",
       "    RMSE  Training Time  \\\n",
       "0  0.161       0.008184   \n",
       "1  0.161       0.004909   \n",
       "2  0.250       0.008680   \n",
       "3  0.249       0.012299   \n",
       "4  0.243       0.006759   \n",
       "5  0.168       0.035615   \n",
       "6  0.159       0.317612   \n",
       "7  0.147       0.106499   \n",
       "8  0.163       0.219412   \n",
       "9  0.192       0.079268   \n",
       "\n",
       "                                            Most Important Features  \n",
       "0                      [OverallQual, firstFlrSF, HouseStyle_2Story]  \n",
       "1                   [CentralAir_Y, HouseStyle_2Story, Heating_Grav]  \n",
       "2                                                                    \n",
       "3                                                                    \n",
       "4  {'OverallQual': 0.519, 'GarageArea': 0.141, 'firstFlrSF': 0.075}  \n",
       "5  {'OverallQual': 0.487, 'GarageArea': 0.135, 'firstFlrSF': 0.088}  \n",
       "6  {'OverallQual': 0.497, 'GarageArea': 0.141, 'firstFlrSF': 0.083}  \n",
       "7   {'OverallQual': 0.442, 'GarageArea': 0.111, 'firstFlrSF': 0.09}  \n",
       "8  {'FullBath': 0.217, 'OverallQual': 0.146, 'CentralAir_Y': 0.137}  \n",
       "9    {'OverallQual': 0.329, 'RemodAge': 0.099, 'firstFlrSF': 0.094}  "
      ]
     },
     "execution_count": 48,
     "metadata": {},
     "output_type": "execute_result"
    }
   ],
   "source": [
    "compare_df = pd.DataFrame({'Regressor':all_regressors, 'Train Score': train_score, 'Test Score': test_score, 'Adj. R Square': adj_rsq, 'MAE': MAE, 'MSE': MSE, 'RMSE': RMSE, 'Training Time':training_time, \"Most Important Features\":top_features})\n",
    "compare_df"
   ]
  },
  {
   "cell_type": "markdown",
   "id": "93cfedc8",
   "metadata": {},
   "source": [
    "#### Conclusion from Baseline models\n",
    "\n",
    "1. From all baseline model, Gradient Boosting shows better test score (R^2)\n",
    "2. Ensemble models shows better performance compated to base models (except for Linear regression and Ridge regression)\n",
    "3. Train score - There is huge difference between Train and Test Score in tree based models which shows OverFitting\n",
    "\n",
    "We can try in the next part, Cross validation and Hyperparameter tuning techniques to reduce chances of overfitting and also increases performance of model"
   ]
  },
  {
   "cell_type": "code",
   "execution_count": null,
   "id": "049c0de2-f84e-40ac-b22b-7970f2161917",
   "metadata": {},
   "outputs": [],
   "source": []
  }
 ],
 "metadata": {
  "kernelspec": {
   "display_name": "Python 3 (ipykernel)",
   "language": "python",
   "name": "python3"
  },
  "language_info": {
   "codemirror_mode": {
    "name": "ipython",
    "version": 3
   },
   "file_extension": ".py",
   "mimetype": "text/x-python",
   "name": "python",
   "nbconvert_exporter": "python",
   "pygments_lexer": "ipython3",
   "version": "3.9.7"
  }
 },
 "nbformat": 4,
 "nbformat_minor": 5
}
