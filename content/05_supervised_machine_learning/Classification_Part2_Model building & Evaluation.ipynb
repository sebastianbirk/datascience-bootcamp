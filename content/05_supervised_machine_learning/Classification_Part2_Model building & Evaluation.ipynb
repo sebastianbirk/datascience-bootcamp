{
 "cells": [
  {
   "cell_type": "markdown",
   "metadata": {
    "id": "Y4LQk7OwuGue"
   },
   "source": [
    "### **Building Predictive Models with Machine Learning and Python**\n",
    "\n",
    "This notebook contains Implementaion of Various Machine Learning algorithms and comparision of their perormances.\n",
    "\n",
    "**Input Data:** Cleaned and pre-processed files from Feature engineering session are used as input.\n",
    "\n",
    "    x_train.csv, x_test.csv, y_train.csv, y_test.csv\n",
    "    Location --> content/04_data_preprocessing_&_feature_engineering/Solution_Classification_preprocessing.ipynb\n",
    "    \n",
    "**Some insights about the features**\n",
    "\n",
    "*LIMIT_BAL:* Amount of given credit in NT dollars <br>\n",
    "*SEX:* Gender (1=male, 2=female)<br>\n",
    "*EDUCATION:* (1=graduate school, 2=university, 3=high school, 4=others)<br>\n",
    "*MARRIAGE:* Marital status (1=married, 2=single, 3=others)<br>\n",
    "*AGE:* Age in years<br>\n",
    "*PAY_0:* Repayment status in September, 2005 (-1=pay duly, 1=payment delay for one month, 2=payment delay for two months, … 8=payment delay for eight months, 9=payment delay for nine months and above)<br>\n",
    "*PAY_2 - PAY_6:* Repayment status in August to April, 2005 (scale same as above)<br>\n",
    "*BILL_AMT1 - BILL_AMT6:* Amount of bill statement from September to April, 2005 <br>\n",
    "*PAY_AMT1 - PAY_AMT6:* Amount of previous payment from September to April, 2005 (NT dollar)<br>\n",
    "*default.payment.next.month:* Default payment (1=yes, 0=no)"
   ]
  },
  {
   "cell_type": "markdown",
   "metadata": {},
   "source": [
    "##### Importing required libraries"
   ]
  },
  {
   "cell_type": "code",
   "execution_count": 1,
   "metadata": {
    "id": "dByMsuzT8Tnw"
   },
   "outputs": [],
   "source": [
    "#importing required libraries for data analysis\n",
    "import pandas as pd\n",
    "import numpy as np\n",
    "\n",
    "#Visuals and Time libraries\n",
    "import matplotlib.pyplot as plt\n",
    "import time\n",
    "\n",
    "import warnings\n",
    "warnings.filterwarnings('ignore')\n",
    "\n",
    "#Import Data balancing libraries\n",
    "import imblearn\n",
    "from imblearn.over_sampling import SMOTE\n",
    "\n",
    "# Import models from sklearn\n",
    "from sklearn.model_selection import train_test_split\n",
    "\n",
    "from sklearn.linear_model import LogisticRegression\n",
    "from sklearn.neighbors import KNeighborsClassifier\n",
    "from sklearn.naive_bayes import GaussianNB\n",
    "from sklearn.svm import SVC\n",
    "\n",
    "from sklearn.tree import DecisionTreeClassifier\n",
    "from sklearn.ensemble import RandomForestClassifier\n",
    "from sklearn.ensemble import AdaBoostClassifier\n",
    "from sklearn.ensemble import BaggingClassifier\n",
    "from sklearn.ensemble import GradientBoostingClassifier\n",
    "from xgboost import XGBClassifier\n",
    "\n",
    "# Import evaluation metrics\n",
    "from sklearn.model_selection import cross_val_score\n",
    "from sklearn.metrics import confusion_matrix, classification_report, accuracy_score, precision_score, recall_score, f1_score\n",
    "from sklearn.metrics import roc_auc_score, roc_curve, auc"
   ]
  },
  {
   "cell_type": "code",
   "execution_count": 2,
   "metadata": {},
   "outputs": [
    {
     "name": "stdout",
     "output_type": "stream",
     "text": [
      "(20659, 19) (8984, 19) (20659, 1) (8984, 1)\n"
     ]
    }
   ],
   "source": [
    "# Read the training & test datasets generated from Preprocessed classification Solution \n",
    "# Link --> content/04_data_preprocessing_&_feature_engineering/Solution_Classification_preprocessing.ipynb\n",
    "\n",
    "x_train=pd.read_csv('../datasets/classification/processed/X_train.csv', index_col=0)\n",
    "x_test=pd.read_csv('../datasets/classification/processed/X_test.csv', index_col=0)\n",
    "\n",
    "y_train=pd.read_csv('../datasets/classification/processed/y_train.csv', index_col=0)\n",
    "y_test=pd.read_csv('../datasets/classification/processed/y_test.csv', index_col=0)\n",
    "\n",
    "print(x_train.shape,x_test.shape,y_train.shape,y_test.shape)"
   ]
  },
  {
   "cell_type": "markdown",
   "metadata": {},
   "source": [
    "### Data Balancing\n",
    "\n",
    "All resampling operations are applied to only training datasets. If upsampling is done before splitting the dataset into a train and validation set, then it could end up with the same observation in both datasets. As a result, a machine learning model will be able to perfectly predict the value for those observations when predicting on the validation set, hence inflating the accuracy and recall.\n",
    "\n",
    "A. Under Sampling:\n",
    "\n",
    "    1. Random undersampling --> rus =  RandomUnderSampler()\n",
    "    2. Tomek Link --> tk = TomekLinks()\n",
    "\n",
    "B. Over Sampling:\n",
    "    \n",
    "    3. Random oversampling  --> ros =  RandomOverSampler()\n",
    "    4. SMOTE (Synthetic Minority Over-Sampling Technique) --> sm = SMOTE()\n",
    "    5. ADASYN (Adaptive Synthetic Sampling) --> adasyn =  ADASYN()\n",
    "\n",
    "C. Hybrid Sampling:\n",
    "\n",
    "    6. SMOTE+Tomek link --> smtom =  SMOTETomek()"
   ]
  },
  {
   "cell_type": "code",
   "execution_count": 3,
   "metadata": {},
   "outputs": [
    {
     "name": "stdout",
     "output_type": "stream",
     "text": [
      "Original unbalanced dataset shape 20659\n",
      "Resampled balanced dataset shape 30898\n"
     ]
    }
   ],
   "source": [
    "#importing SMOTE to handle class imbalance\n",
    "from imblearn.combine import SMOTETomek\n",
    "\n",
    "smoteTomek = SMOTETomek()\n",
    "\n",
    "# fit predictor and target variable\n",
    "x_smote, y_smote = smoteTomek.fit_resample(x_train, y_train)\n",
    "\n",
    "print('Original unbalanced dataset shape', len(y_train))\n",
    "print('Resampled balanced dataset shape', len(y_smote))"
   ]
  },
  {
   "cell_type": "code",
   "execution_count": 4,
   "metadata": {},
   "outputs": [],
   "source": [
    "# Saving final balanced files in csv format for future reference\n",
    "\n",
    "x_smote.to_csv(\"../datasets/classification/processed/x_smote.csv\", index=None)\n",
    "y_smote.to_csv(\"../datasets/classification/processed/y_smote.csv\", index=None)"
   ]
  },
  {
   "cell_type": "markdown",
   "metadata": {
    "id": "1HD-O64CJaWG"
   },
   "source": [
    "#### 1. **Logistic Regression Model**"
   ]
  },
  {
   "cell_type": "code",
   "execution_count": 5,
   "metadata": {
    "colab": {
     "base_uri": "https://localhost:8080/"
    },
    "id": "xltV-JKlH76A",
    "outputId": "7c475b05-d52e-43e5-d06b-98ae5ff16b6b"
   },
   "outputs": [],
   "source": [
    "# Importing the Logistic Regression Model\n",
    "start = time.time()\n",
    "logmodel = LogisticRegression(random_state=1)\n",
    "logmodel.fit(x_smote,y_smote)\n",
    "stop = time.time()\n",
    "\n",
    "# predicting the y test observations\n",
    "y_pred = logmodel.predict(x_test)\n",
    "y_train_pred = logmodel.predict(x_smote)"
   ]
  },
  {
   "cell_type": "code",
   "execution_count": 6,
   "metadata": {
    "colab": {
     "base_uri": "https://localhost:8080/"
    },
    "id": "WUYBmWtyNfUs",
    "outputId": "514389aa-365a-4c20-fc73-f3ab00cdae36"
   },
   "outputs": [
    {
     "data": {
      "text/html": [
       "<div>\n",
       "<style scoped>\n",
       "    .dataframe tbody tr th:only-of-type {\n",
       "        vertical-align: middle;\n",
       "    }\n",
       "\n",
       "    .dataframe tbody tr th {\n",
       "        vertical-align: top;\n",
       "    }\n",
       "\n",
       "    .dataframe thead th {\n",
       "        text-align: right;\n",
       "    }\n",
       "</style>\n",
       "<table border=\"1\" class=\"dataframe\">\n",
       "  <thead>\n",
       "    <tr style=\"text-align: right;\">\n",
       "      <th></th>\n",
       "      <th>Model</th>\n",
       "      <th>Train Accuracy</th>\n",
       "      <th>Test Accuracy</th>\n",
       "      <th>Precision</th>\n",
       "      <th>Recall</th>\n",
       "      <th>F1 Score</th>\n",
       "      <th>ROC</th>\n",
       "      <th>Training Time(s)</th>\n",
       "      <th>Important Features</th>\n",
       "    </tr>\n",
       "  </thead>\n",
       "  <tbody>\n",
       "    <tr>\n",
       "      <th>0</th>\n",
       "      <td>Logistic Regression</td>\n",
       "      <td>0.636</td>\n",
       "      <td>0.562</td>\n",
       "      <td>0.735</td>\n",
       "      <td>0.301</td>\n",
       "      <td>0.427</td>\n",
       "      <td>0.586</td>\n",
       "      <td>0.236149</td>\n",
       "      <td>[AGE_median, PAY_0, PAY_2]</td>\n",
       "    </tr>\n",
       "  </tbody>\n",
       "</table>\n",
       "</div>"
      ],
      "text/plain": [
       "                 Model  Train Accuracy  Test Accuracy  Precision  Recall  \\\n",
       "0  Logistic Regression           0.636          0.562      0.735   0.301   \n",
       "\n",
       "   F1 Score    ROC  Training Time(s)          Important Features  \n",
       "0     0.427  0.586          0.236149  [AGE_median, PAY_0, PAY_2]  "
      ]
     },
     "execution_count": 6,
     "metadata": {},
     "output_type": "execute_result"
    }
   ],
   "source": [
    "#getting all scores for Logistic Regression\n",
    "log_acctr = round(accuracy_score(y_train_pred,y_smote), 3)\n",
    "log_acc = round(accuracy_score(y_pred,y_test), 3)\n",
    "log_prec = round(precision_score(y_pred,y_test), 3)\n",
    "log_rec = round(recall_score(y_pred,y_test), 3)\n",
    "log_f1 = round(f1_score(y_pred,y_test), 3)\n",
    "log_roc = round(roc_auc_score(y_pred,y_test), 3)\n",
    "\n",
    "#Feature co-efficients (Coef_ - Is generally not a great representaion of feature importance)\n",
    "ft_imp = pd.DataFrame(data={'Attribute': x_smote.columns,'Importance': logmodel.coef_[0]}).sort_values(by='Importance', ascending=False)\n",
    "log_feat = np.array(ft_imp['Attribute'][:3:])\n",
    "\n",
    "#Training time calculation\n",
    "log_time=stop-start\n",
    "\n",
    "#Overall scores\n",
    "results = pd.DataFrame([['Logistic Regression', log_acctr, log_acc, log_prec, log_rec, log_f1, log_roc, log_time, log_feat]],\n",
    "            columns = ['Model', 'Train Accuracy', 'Test Accuracy', 'Precision', 'Recall', 'F1 Score','ROC', 'Training Time(s)','Important Features'])\n",
    "results"
   ]
  },
  {
   "cell_type": "code",
   "execution_count": 7,
   "metadata": {
    "scrolled": true
   },
   "outputs": [
    {
     "name": "stdout",
     "output_type": "stream",
     "text": [
      "              precision    recall  f1-score   support\n",
      "\n",
      "           0       0.87      0.51      0.64      6985\n",
      "           1       0.30      0.74      0.43      1999\n",
      "\n",
      "    accuracy                           0.56      8984\n",
      "   macro avg       0.59      0.62      0.54      8984\n",
      "weighted avg       0.74      0.56      0.60      8984\n",
      "\n",
      "[[3575 3410]\n",
      " [ 529 1470]]\n"
     ]
    }
   ],
   "source": [
    "# Confusion Matrix\n",
    "print(classification_report(y_test, y_pred))\n",
    "print(confusion_matrix(y_test, y_pred))"
   ]
  },
  {
   "cell_type": "code",
   "execution_count": 8,
   "metadata": {},
   "outputs": [
    {
     "data": {
      "image/png": "[encoded data removed]",
      "text/plain": [
       "<Figure size 432x288 with 1 Axes>"
      ]
     },
     "metadata": {
      "needs_background": "light"
     },
     "output_type": "display_data"
    }
   ],
   "source": [
    "plt.bar(x=ft_imp['Attribute'], height=ft_imp['Importance'], color='#087E8B')\n",
    "plt.title('Feature importances obtained from coefficients', size=10)\n",
    "plt.xticks(rotation='vertical')\n",
    "plt.show()"
   ]
  },
  {
   "cell_type": "markdown",
   "metadata": {
    "id": "1HD-O64CJaWG"
   },
   "source": [
    "#### 2. **KNN classifier algorithm**"
   ]
  },
  {
   "cell_type": "code",
   "execution_count": 9,
   "metadata": {
    "colab": {
     "base_uri": "https://localhost:8080/"
    },
    "id": "xltV-JKlH76A",
    "outputId": "7c475b05-d52e-43e5-d06b-98ae5ff16b6b"
   },
   "outputs": [],
   "source": [
    "# Importing the KNN classifier\n",
    "start = time.time()\n",
    "knn = KNeighborsClassifier()\n",
    "knn.fit(x_smote,y_smote)\n",
    "stop = time.time()\n",
    "\n",
    "# predicting the y test observations\n",
    "y_pred = knn.predict(x_test)\n",
    "y_train_pred = knn.predict(x_smote)"
   ]
  },
  {
   "cell_type": "code",
   "execution_count": 10,
   "metadata": {
    "colab": {
     "base_uri": "https://localhost:8080/"
    },
    "id": "WUYBmWtyNfUs",
    "outputId": "514389aa-365a-4c20-fc73-f3ab00cdae36"
   },
   "outputs": [
    {
     "data": {
      "text/html": [
       "<div>\n",
       "<style scoped>\n",
       "    .dataframe tbody tr th:only-of-type {\n",
       "        vertical-align: middle;\n",
       "    }\n",
       "\n",
       "    .dataframe tbody tr th {\n",
       "        vertical-align: top;\n",
       "    }\n",
       "\n",
       "    .dataframe thead th {\n",
       "        text-align: right;\n",
       "    }\n",
       "</style>\n",
       "<table border=\"1\" class=\"dataframe\">\n",
       "  <thead>\n",
       "    <tr style=\"text-align: right;\">\n",
       "      <th></th>\n",
       "      <th>Model</th>\n",
       "      <th>Train Accuracy</th>\n",
       "      <th>Test Accuracy</th>\n",
       "      <th>Precision</th>\n",
       "      <th>Recall</th>\n",
       "      <th>F1 Score</th>\n",
       "      <th>ROC</th>\n",
       "      <th>Training Time(s)</th>\n",
       "      <th>Important Features</th>\n",
       "    </tr>\n",
       "  </thead>\n",
       "  <tbody>\n",
       "    <tr>\n",
       "      <th>0</th>\n",
       "      <td>KNN classifier</td>\n",
       "      <td>0.854</td>\n",
       "      <td>0.636</td>\n",
       "      <td>0.503</td>\n",
       "      <td>0.307</td>\n",
       "      <td>0.381</td>\n",
       "      <td>0.566</td>\n",
       "      <td>0.008602</td>\n",
       "      <td>[No coefficients available]</td>\n",
       "    </tr>\n",
       "  </tbody>\n",
       "</table>\n",
       "</div>"
      ],
      "text/plain": [
       "            Model  Train Accuracy  Test Accuracy  Precision  Recall  F1 Score  \\\n",
       "0  KNN classifier           0.854          0.636      0.503   0.307     0.381   \n",
       "\n",
       "     ROC  Training Time(s)           Important Features  \n",
       "0  0.566          0.008602  [No coefficients available]  "
      ]
     },
     "execution_count": 10,
     "metadata": {},
     "output_type": "execute_result"
    }
   ],
   "source": [
    "#getting all scores for KNN classifier\n",
    "knn_acctr = round(accuracy_score(y_train_pred,y_smote), 3)\n",
    "knn_acc = round(accuracy_score(y_pred,y_test), 3)\n",
    "knn_prec = round(precision_score(y_pred,y_test), 3)\n",
    "knn_rec = round(recall_score(y_pred,y_test), 3)\n",
    "knn_f1 = round(f1_score(y_pred,y_test), 3)\n",
    "knn_roc = round(roc_auc_score(y_pred,y_test), 3)\n",
    "\n",
    "#Feature Importance\n",
    "knn_feat = ['No coefficients available']\n",
    "\n",
    "#Training time calculation\n",
    "knn_time=stop-start\n",
    "\n",
    "results = pd.DataFrame([['KNN classifier', knn_acctr, knn_acc, knn_prec, knn_rec, knn_f1, knn_roc, knn_time, knn_feat]],\n",
    "            columns = ['Model', 'Train Accuracy', 'Test Accuracy', 'Precision', 'Recall', 'F1 Score','ROC', 'Training Time(s)','Important Features'])\n",
    "results"
   ]
  },
  {
   "cell_type": "code",
   "execution_count": 11,
   "metadata": {},
   "outputs": [
    {
     "name": "stdout",
     "output_type": "stream",
     "text": [
      "              precision    recall  f1-score   support\n",
      "\n",
      "           0       0.83      0.67      0.74      6985\n",
      "           1       0.31      0.50      0.38      1999\n",
      "\n",
      "    accuracy                           0.64      8984\n",
      "   macro avg       0.57      0.59      0.56      8984\n",
      "weighted avg       0.71      0.64      0.66      8984\n",
      "\n",
      "[[4711 2274]\n",
      " [ 993 1006]]\n"
     ]
    }
   ],
   "source": [
    "# Confusion Matrix\n",
    "print(classification_report(y_test, y_pred))\n",
    "print(confusion_matrix(y_test, y_pred))"
   ]
  },
  {
   "cell_type": "markdown",
   "metadata": {
    "id": "1HD-O64CJaWG"
   },
   "source": [
    "#### 3. **Support Vector Machines**"
   ]
  },
  {
   "cell_type": "code",
   "execution_count": 12,
   "metadata": {
    "colab": {
     "base_uri": "https://localhost:8080/"
    },
    "id": "xltV-JKlH76A",
    "outputId": "7c475b05-d52e-43e5-d06b-98ae5ff16b6b"
   },
   "outputs": [],
   "source": [
    "# Importing the Naive Bayes Model\n",
    "start = time.time()\n",
    "svm = SVC(kernel = 'rbf', random_state = 0)\n",
    "svm.fit(x_smote,y_smote)\n",
    "stop = time.time()\n",
    "\n",
    "# predicting the y test observations\n",
    "y_pred = svm.predict(x_test)\n",
    "y_train_pred = svm.predict(x_smote)"
   ]
  },
  {
   "cell_type": "code",
   "execution_count": 13,
   "metadata": {
    "colab": {
     "base_uri": "https://localhost:8080/"
    },
    "id": "WUYBmWtyNfUs",
    "outputId": "514389aa-365a-4c20-fc73-f3ab00cdae36"
   },
   "outputs": [
    {
     "data": {
      "text/html": [
       "<div>\n",
       "<style scoped>\n",
       "    .dataframe tbody tr th:only-of-type {\n",
       "        vertical-align: middle;\n",
       "    }\n",
       "\n",
       "    .dataframe tbody tr th {\n",
       "        vertical-align: top;\n",
       "    }\n",
       "\n",
       "    .dataframe thead th {\n",
       "        text-align: right;\n",
       "    }\n",
       "</style>\n",
       "<table border=\"1\" class=\"dataframe\">\n",
       "  <thead>\n",
       "    <tr style=\"text-align: right;\">\n",
       "      <th></th>\n",
       "      <th>Model</th>\n",
       "      <th>Train Accuracy</th>\n",
       "      <th>Test Accuracy</th>\n",
       "      <th>Precision</th>\n",
       "      <th>Recall</th>\n",
       "      <th>F1 Score</th>\n",
       "      <th>ROC</th>\n",
       "      <th>Training Time(s)</th>\n",
       "      <th>Important Features</th>\n",
       "    </tr>\n",
       "  </thead>\n",
       "  <tbody>\n",
       "    <tr>\n",
       "      <th>0</th>\n",
       "      <td>Support Vector Machines</td>\n",
       "      <td>0.617</td>\n",
       "      <td>0.563</td>\n",
       "      <td>0.696</td>\n",
       "      <td>0.296</td>\n",
       "      <td>0.415</td>\n",
       "      <td>0.577</td>\n",
       "      <td>38.501741</td>\n",
       "      <td>[No coefficients available]</td>\n",
       "    </tr>\n",
       "  </tbody>\n",
       "</table>\n",
       "</div>"
      ],
      "text/plain": [
       "                     Model  Train Accuracy  Test Accuracy  Precision  Recall  \\\n",
       "0  Support Vector Machines           0.617          0.563      0.696   0.296   \n",
       "\n",
       "   F1 Score    ROC  Training Time(s)           Important Features  \n",
       "0     0.415  0.577         38.501741  [No coefficients available]  "
      ]
     },
     "execution_count": 13,
     "metadata": {},
     "output_type": "execute_result"
    }
   ],
   "source": [
    "#getting all scores for Naive Bayes Model\n",
    "svm_acctr = round(accuracy_score(y_train_pred,y_smote), 3)\n",
    "svm_acc = round(accuracy_score(y_pred,y_test), 3)\n",
    "svm_prec = round(precision_score(y_pred,y_test), 3)\n",
    "svm_rec = round(recall_score(y_pred,y_test), 3)\n",
    "svm_f1 = round(f1_score(y_pred,y_test), 3)\n",
    "svm_roc = round(roc_auc_score(y_pred,y_test), 3)\n",
    "\n",
    "#Feature Importance - Coef_ is only available in the case of linear kernel. For Non-linear kernel we can try\n",
    "#sklearn.inspection.permutation_importance method\n",
    "svm_feat = ['No coefficients available']\n",
    "\n",
    "#Training time calculation\n",
    "svm_time=stop-start\n",
    "\n",
    "results = pd.DataFrame([['Support Vector Machines', svm_acctr, svm_acc, svm_prec, svm_rec, svm_f1, svm_roc, svm_time, svm_feat]],\n",
    "             columns = ['Model', 'Train Accuracy', 'Test Accuracy', 'Precision', 'Recall', 'F1 Score','ROC', 'Training Time(s)','Important Features'])\n",
    "results"
   ]
  },
  {
   "cell_type": "code",
   "execution_count": 14,
   "metadata": {
    "scrolled": true
   },
   "outputs": [
    {
     "name": "stdout",
     "output_type": "stream",
     "text": [
      "              precision    recall  f1-score   support\n",
      "\n",
      "           0       0.86      0.53      0.65      6985\n",
      "           1       0.30      0.70      0.42      1999\n",
      "\n",
      "    accuracy                           0.56      8984\n",
      "   macro avg       0.58      0.61      0.53      8984\n",
      "weighted avg       0.73      0.56      0.60      8984\n",
      "\n",
      "[[3670 3315]\n",
      " [ 607 1392]]\n"
     ]
    }
   ],
   "source": [
    "# Confusion Matrix\n",
    "print(classification_report(y_test, y_pred))\n",
    "print(confusion_matrix(y_test, y_pred))"
   ]
  },
  {
   "cell_type": "markdown",
   "metadata": {
    "id": "1HD-O64CJaWG"
   },
   "source": [
    "#### 4. **Naive Bayes**"
   ]
  },
  {
   "cell_type": "code",
   "execution_count": 15,
   "metadata": {
    "colab": {
     "base_uri": "https://localhost:8080/"
    },
    "id": "xltV-JKlH76A",
    "outputId": "7c475b05-d52e-43e5-d06b-98ae5ff16b6b"
   },
   "outputs": [],
   "source": [
    "# Importing the Naive Bayes Model\n",
    "start = time.time()\n",
    "nb = GaussianNB()\n",
    "nb.fit(x_smote,y_smote)\n",
    "stop = time.time()\n",
    "\n",
    "# predicting the y test observations\n",
    "y_pred = nb.predict(x_test)\n",
    "y_train_pred = nb.predict(x_smote)"
   ]
  },
  {
   "cell_type": "code",
   "execution_count": 16,
   "metadata": {
    "colab": {
     "base_uri": "https://localhost:8080/"
    },
    "id": "WUYBmWtyNfUs",
    "outputId": "514389aa-365a-4c20-fc73-f3ab00cdae36"
   },
   "outputs": [
    {
     "data": {
      "text/html": [
       "<div>\n",
       "<style scoped>\n",
       "    .dataframe tbody tr th:only-of-type {\n",
       "        vertical-align: middle;\n",
       "    }\n",
       "\n",
       "    .dataframe tbody tr th {\n",
       "        vertical-align: top;\n",
       "    }\n",
       "\n",
       "    .dataframe thead th {\n",
       "        text-align: right;\n",
       "    }\n",
       "</style>\n",
       "<table border=\"1\" class=\"dataframe\">\n",
       "  <thead>\n",
       "    <tr style=\"text-align: right;\">\n",
       "      <th></th>\n",
       "      <th>Model</th>\n",
       "      <th>Train Accuracy</th>\n",
       "      <th>Test Accuracy</th>\n",
       "      <th>Precision</th>\n",
       "      <th>Recall</th>\n",
       "      <th>F1 Score</th>\n",
       "      <th>ROC</th>\n",
       "      <th>Training Time(s)</th>\n",
       "      <th>Important Features</th>\n",
       "    </tr>\n",
       "  </thead>\n",
       "  <tbody>\n",
       "    <tr>\n",
       "      <th>0</th>\n",
       "      <td>Naive Bayes</td>\n",
       "      <td>0.61</td>\n",
       "      <td>0.557</td>\n",
       "      <td>0.679</td>\n",
       "      <td>0.289</td>\n",
       "      <td>0.406</td>\n",
       "      <td>0.57</td>\n",
       "      <td>0.01844</td>\n",
       "      <td>[No coefficients available]</td>\n",
       "    </tr>\n",
       "  </tbody>\n",
       "</table>\n",
       "</div>"
      ],
      "text/plain": [
       "         Model  Train Accuracy  Test Accuracy  Precision  Recall  F1 Score  \\\n",
       "0  Naive Bayes            0.61          0.557      0.679   0.289     0.406   \n",
       "\n",
       "    ROC  Training Time(s)           Important Features  \n",
       "0  0.57           0.01844  [No coefficients available]  "
      ]
     },
     "execution_count": 16,
     "metadata": {},
     "output_type": "execute_result"
    }
   ],
   "source": [
    "#getting all scores for Naive Bayes Model\n",
    "nb_acctr = round(accuracy_score(y_train_pred,y_smote), 3)\n",
    "nb_acc = round(accuracy_score(y_pred,y_test), 3)\n",
    "nb_prec = round(precision_score(y_pred,y_test), 3)\n",
    "nb_rec = round(recall_score(y_pred,y_test), 3)\n",
    "nb_f1 = round(f1_score(y_pred,y_test), 3)\n",
    "nb_roc = round(roc_auc_score(y_pred,y_test), 3)\n",
    "\n",
    "#Feature Importance\n",
    "nb_feat = ['No coefficients available']\n",
    "\n",
    "#Training time calculation\n",
    "nb_time=stop-start\n",
    "\n",
    "results = pd.DataFrame([['Naive Bayes', nb_acctr, nb_acc, nb_prec, nb_rec, nb_f1, nb_roc, nb_time, nb_feat]],\n",
    "            columns = ['Model', 'Train Accuracy', 'Test Accuracy', 'Precision', 'Recall', 'F1 Score','ROC', 'Training Time(s)', 'Important Features'])\n",
    "results"
   ]
  },
  {
   "cell_type": "code",
   "execution_count": 17,
   "metadata": {
    "scrolled": true
   },
   "outputs": [
    {
     "name": "stdout",
     "output_type": "stream",
     "text": [
      "              precision    recall  f1-score   support\n",
      "\n",
      "           0       0.85      0.52      0.65      6985\n",
      "           1       0.29      0.68      0.41      1999\n",
      "\n",
      "    accuracy                           0.56      8984\n",
      "   macro avg       0.57      0.60      0.53      8984\n",
      "weighted avg       0.73      0.56      0.59      8984\n",
      "\n",
      "[[3651 3334]\n",
      " [ 642 1357]]\n"
     ]
    }
   ],
   "source": [
    "# Confusion Matrix\n",
    "print(classification_report(y_test, y_pred))\n",
    "print(confusion_matrix(y_test, y_pred))"
   ]
  },
  {
   "cell_type": "markdown",
   "metadata": {
    "id": "C1aTiZqyteC3"
   },
   "source": [
    "### 4. **Decision Tree Classification**"
   ]
  },
  {
   "cell_type": "code",
   "execution_count": 18,
   "metadata": {
    "colab": {
     "base_uri": "https://localhost:8080/"
    },
    "id": "xFp8TGTFWCcN",
    "outputId": "0b504262-6853-4975-84f9-116768f234f7"
   },
   "outputs": [],
   "source": [
    "#fitting data into Decision Tree Classifier\n",
    "start = time.time()\n",
    "dtc = DecisionTreeClassifier()\n",
    "dtc.fit(x_smote,y_smote)\n",
    "stop = time.time()\n",
    "\n",
    "# predicting the y test observations\n",
    "y_pred = dtc.predict(x_test)\n",
    "y_train_pred = dtc.predict(x_smote)"
   ]
  },
  {
   "cell_type": "code",
   "execution_count": 19,
   "metadata": {},
   "outputs": [
    {
     "data": {
      "text/html": [
       "<div>\n",
       "<style scoped>\n",
       "    .dataframe tbody tr th:only-of-type {\n",
       "        vertical-align: middle;\n",
       "    }\n",
       "\n",
       "    .dataframe tbody tr th {\n",
       "        vertical-align: top;\n",
       "    }\n",
       "\n",
       "    .dataframe thead th {\n",
       "        text-align: right;\n",
       "    }\n",
       "</style>\n",
       "<table border=\"1\" class=\"dataframe\">\n",
       "  <thead>\n",
       "    <tr style=\"text-align: right;\">\n",
       "      <th></th>\n",
       "      <th>Model</th>\n",
       "      <th>Train Accuracy</th>\n",
       "      <th>Test Accuracy</th>\n",
       "      <th>Precision</th>\n",
       "      <th>Recall</th>\n",
       "      <th>F1 Score</th>\n",
       "      <th>ROC</th>\n",
       "      <th>Training Time(s)</th>\n",
       "      <th>Important Features</th>\n",
       "    </tr>\n",
       "  </thead>\n",
       "  <tbody>\n",
       "    <tr>\n",
       "      <th>0</th>\n",
       "      <td>Decision Trees</td>\n",
       "      <td>0.999</td>\n",
       "      <td>0.717</td>\n",
       "      <td>0.408</td>\n",
       "      <td>0.376</td>\n",
       "      <td>0.391</td>\n",
       "      <td>0.601</td>\n",
       "      <td>0.350913</td>\n",
       "      <td>[PAY_0, SEX_female, EDUCATION_graduate school]</td>\n",
       "    </tr>\n",
       "  </tbody>\n",
       "</table>\n",
       "</div>"
      ],
      "text/plain": [
       "            Model  Train Accuracy  Test Accuracy  Precision  Recall  F1 Score  \\\n",
       "0  Decision Trees           0.999          0.717      0.408   0.376     0.391   \n",
       "\n",
       "     ROC  Training Time(s)                              Important Features  \n",
       "0  0.601          0.350913  [PAY_0, SEX_female, EDUCATION_graduate school]  "
      ]
     },
     "execution_count": 19,
     "metadata": {},
     "output_type": "execute_result"
    }
   ],
   "source": [
    "#getting all scores for Decision Tree Classifier\n",
    "dtc_acctr = round(accuracy_score(y_train_pred,y_smote), 3)\n",
    "dtc_acc = round(accuracy_score(y_pred,y_test), 3)\n",
    "dtc_prec = round(precision_score(y_pred,y_test), 3)\n",
    "dtc_rec = round(recall_score(y_pred,y_test), 3)\n",
    "dtc_f1 = round(f1_score(y_pred,y_test), 3)\n",
    "dtc_roc = round(roc_auc_score(y_pred,y_test), 3)\n",
    "\n",
    "#Feature Importance\n",
    "imp_ft = pd.DataFrame(data={'Attribute': x_smote.columns, 'Importance': dtc.feature_importances_}).sort_values(by='Importance', ascending=False)\n",
    "dtc_feat = np.array(imp_ft['Attribute'][:3:])\n",
    "\n",
    "#Training time calculation\n",
    "dtc_time=stop-start\n",
    "\n",
    "results = pd.DataFrame([['Decision Trees', dtc_acctr, dtc_acc, dtc_prec, dtc_rec, dtc_f1, dtc_roc, dtc_time, dtc_feat]],\n",
    "            columns = ['Model', 'Train Accuracy', 'Test Accuracy', 'Precision', 'Recall', 'F1 Score','ROC', 'Training Time(s)','Important Features'])\n",
    "results"
   ]
  },
  {
   "cell_type": "code",
   "execution_count": 20,
   "metadata": {
    "scrolled": true
   },
   "outputs": [
    {
     "name": "stdout",
     "output_type": "stream",
     "text": [
      "              precision    recall  f1-score   support\n",
      "\n",
      "           0       0.83      0.81      0.82      6985\n",
      "           1       0.38      0.41      0.39      1999\n",
      "\n",
      "    accuracy                           0.72      8984\n",
      "   macro avg       0.60      0.61      0.60      8984\n",
      "weighted avg       0.73      0.72      0.72      8984\n",
      "\n",
      "[[5628 1357]\n",
      " [1183  816]]\n"
     ]
    }
   ],
   "source": [
    "# Confusion Matrix\n",
    "print(classification_report(y_test, y_pred))\n",
    "print(confusion_matrix(y_test, y_pred))"
   ]
  },
  {
   "cell_type": "code",
   "execution_count": 21,
   "metadata": {},
   "outputs": [
    {
     "data": {
      "image/png": "[encoded data removed]",
      "text/plain": [
       "<Figure size 432x288 with 1 Axes>"
      ]
     },
     "metadata": {
      "needs_background": "light"
     },
     "output_type": "display_data"
    }
   ],
   "source": [
    "#Plotting feature importance\n",
    "plt.barh(y=imp_ft['Attribute'], width=imp_ft['Importance'], color='#087E8B')\n",
    "plt.title('Feature importances obtained from coefficients', size=10)\n",
    "plt.show()"
   ]
  },
  {
   "cell_type": "markdown",
   "metadata": {
    "id": "-oQB1e2AuWw4"
   },
   "source": [
    "### 5. **Random Forest Classification**"
   ]
  },
  {
   "cell_type": "code",
   "execution_count": 22,
   "metadata": {
    "colab": {
     "base_uri": "https://localhost:8080/"
    },
    "id": "xFp8TGTFWCcN",
    "outputId": "0b504262-6853-4975-84f9-116768f234f7"
   },
   "outputs": [],
   "source": [
    "#fitting data into Random Forest Classifier\n",
    "start = time.time()\n",
    "rfc = RandomForestClassifier()\n",
    "rfc.fit(x_smote,y_smote)\n",
    "stop = time.time()\n",
    "\n",
    "# predicting the y test observations\n",
    "y_pred = rfc.predict(x_test)\n",
    "y_train_pred = rfc.predict(x_smote)"
   ]
  },
  {
   "cell_type": "code",
   "execution_count": 23,
   "metadata": {},
   "outputs": [
    {
     "data": {
      "text/html": [
       "<div>\n",
       "<style scoped>\n",
       "    .dataframe tbody tr th:only-of-type {\n",
       "        vertical-align: middle;\n",
       "    }\n",
       "\n",
       "    .dataframe tbody tr th {\n",
       "        vertical-align: top;\n",
       "    }\n",
       "\n",
       "    .dataframe thead th {\n",
       "        text-align: right;\n",
       "    }\n",
       "</style>\n",
       "<table border=\"1\" class=\"dataframe\">\n",
       "  <thead>\n",
       "    <tr style=\"text-align: right;\">\n",
       "      <th></th>\n",
       "      <th>Model</th>\n",
       "      <th>Train Accuracy</th>\n",
       "      <th>Test Accuracy</th>\n",
       "      <th>Precision</th>\n",
       "      <th>Recall</th>\n",
       "      <th>F1 Score</th>\n",
       "      <th>ROC</th>\n",
       "      <th>Training Time(s)</th>\n",
       "      <th>Important Features</th>\n",
       "    </tr>\n",
       "  </thead>\n",
       "  <tbody>\n",
       "    <tr>\n",
       "      <th>0</th>\n",
       "      <td>Random Forest</td>\n",
       "      <td>0.999</td>\n",
       "      <td>0.8</td>\n",
       "      <td>0.375</td>\n",
       "      <td>0.577</td>\n",
       "      <td>0.455</td>\n",
       "      <td>0.707</td>\n",
       "      <td>5.042793</td>\n",
       "      <td>[PAY_0, SEX_female, PAY_2]</td>\n",
       "    </tr>\n",
       "  </tbody>\n",
       "</table>\n",
       "</div>"
      ],
      "text/plain": [
       "           Model  Train Accuracy  Test Accuracy  Precision  Recall  F1 Score  \\\n",
       "0  Random Forest           0.999            0.8      0.375   0.577     0.455   \n",
       "\n",
       "     ROC  Training Time(s)          Important Features  \n",
       "0  0.707          5.042793  [PAY_0, SEX_female, PAY_2]  "
      ]
     },
     "execution_count": 23,
     "metadata": {},
     "output_type": "execute_result"
    }
   ],
   "source": [
    "#getting all scores for Random Forest Classifier\n",
    "rfc_acctr = round(accuracy_score(y_train_pred,y_smote), 3)\n",
    "rfc_acc = round(accuracy_score(y_pred,y_test), 3)\n",
    "rfc_prec = round(precision_score(y_pred,y_test), 3)\n",
    "rfc_rec = round(recall_score(y_pred,y_test), 3)\n",
    "rfc_f1 = round(f1_score(y_pred,y_test), 3)\n",
    "rfc_roc = round(roc_auc_score(y_pred,y_test), 3)\n",
    "\n",
    "#Feature Importance\n",
    "imp_ft = pd.DataFrame(data={'Attribute': x_smote.columns, 'Importance': rfc.feature_importances_}).sort_values(by='Importance', ascending=False)\n",
    "rfc_feat = np.array(imp_ft['Attribute'][:3:])\n",
    "\n",
    "#Training time calculation\n",
    "\n",
    "rfc_time=stop-start\n",
    "\n",
    "results = pd.DataFrame([['Random Forest', rfc_acctr, rfc_acc, rfc_prec, rfc_rec, rfc_f1, rfc_roc, rfc_time, rfc_feat]],\n",
    "            columns = ['Model', 'Train Accuracy', 'Test Accuracy', 'Precision', 'Recall', 'F1 Score','ROC', 'Training Time(s)','Important Features'\n",
    "])\n",
    "results"
   ]
  },
  {
   "cell_type": "code",
   "execution_count": 24,
   "metadata": {},
   "outputs": [
    {
     "name": "stdout",
     "output_type": "stream",
     "text": [
      "              precision    recall  f1-score   support\n",
      "\n",
      "           0       0.84      0.92      0.88      6985\n",
      "           1       0.58      0.38      0.45      1999\n",
      "\n",
      "    accuracy                           0.80      8984\n",
      "   macro avg       0.71      0.65      0.67      8984\n",
      "weighted avg       0.78      0.80      0.78      8984\n",
      "\n",
      "[[6436  549]\n",
      " [1249  750]]\n"
     ]
    }
   ],
   "source": [
    "# Confusion Matrix\n",
    "print(classification_report(y_test, y_pred))\n",
    "print(confusion_matrix(y_test, y_pred))"
   ]
  },
  {
   "cell_type": "code",
   "execution_count": 25,
   "metadata": {},
   "outputs": [
    {
     "data": {
      "image/png": "[encoded data removed]",
      "text/plain": [
       "<Figure size 432x288 with 1 Axes>"
      ]
     },
     "metadata": {
      "needs_background": "light"
     },
     "output_type": "display_data"
    }
   ],
   "source": [
    "#Plotting feature importance\n",
    "plt.barh(y=imp_ft['Attribute'], width=imp_ft['Importance'], color='#087E8B')\n",
    "plt.title('Feature importances obtained from coefficients', size=10)\n",
    "plt.show()"
   ]
  },
  {
   "cell_type": "markdown",
   "metadata": {
    "id": "5f-ashA1uerB"
   },
   "source": [
    "### 6.  **Gradient Boosting**"
   ]
  },
  {
   "cell_type": "code",
   "execution_count": 26,
   "metadata": {
    "colab": {
     "base_uri": "https://localhost:8080/"
    },
    "id": "Ut6-p05v3Jje",
    "outputId": "5347d8a5-606a-41e6-e042-370fee30787a"
   },
   "outputs": [],
   "source": [
    "#fitting data into Gradient Boosting Classifier\n",
    "start = time.time()\n",
    "gbc = GradientBoostingClassifier()\n",
    "gbc.fit(x_smote,y_smote)\n",
    "stop = time.time()\n",
    "\n",
    "# predicting the y test observations\n",
    "y_pred = gbc.predict(x_test)\n",
    "y_train_pred = gbc.predict(x_smote)"
   ]
  },
  {
   "cell_type": "code",
   "execution_count": 27,
   "metadata": {
    "colab": {
     "base_uri": "https://localhost:8080/"
    },
    "id": "g9vGklUI3Jds",
    "outputId": "0d2e228c-f44b-44f0-b9bf-c52f520ea15c"
   },
   "outputs": [
    {
     "data": {
      "text/html": [
       "<div>\n",
       "<style scoped>\n",
       "    .dataframe tbody tr th:only-of-type {\n",
       "        vertical-align: middle;\n",
       "    }\n",
       "\n",
       "    .dataframe tbody tr th {\n",
       "        vertical-align: top;\n",
       "    }\n",
       "\n",
       "    .dataframe thead th {\n",
       "        text-align: right;\n",
       "    }\n",
       "</style>\n",
       "<table border=\"1\" class=\"dataframe\">\n",
       "  <thead>\n",
       "    <tr style=\"text-align: right;\">\n",
       "      <th></th>\n",
       "      <th>Model</th>\n",
       "      <th>Train Accuracy</th>\n",
       "      <th>Test Accuracy</th>\n",
       "      <th>Precision</th>\n",
       "      <th>Recall</th>\n",
       "      <th>F1 Score</th>\n",
       "      <th>ROC</th>\n",
       "      <th>Training Time(s)</th>\n",
       "      <th>Important Features</th>\n",
       "    </tr>\n",
       "  </thead>\n",
       "  <tbody>\n",
       "    <tr>\n",
       "      <th>0</th>\n",
       "      <td>Gradient Boosting</td>\n",
       "      <td>0.876</td>\n",
       "      <td>0.81</td>\n",
       "      <td>0.393</td>\n",
       "      <td>0.615</td>\n",
       "      <td>0.479</td>\n",
       "      <td>0.729</td>\n",
       "      <td>7.669941</td>\n",
       "      <td>[PAY_0, SEX_female, MARRIAGE_married]</td>\n",
       "    </tr>\n",
       "  </tbody>\n",
       "</table>\n",
       "</div>"
      ],
      "text/plain": [
       "               Model  Train Accuracy  Test Accuracy  Precision  Recall  \\\n",
       "0  Gradient Boosting           0.876           0.81      0.393   0.615   \n",
       "\n",
       "   F1 Score    ROC  Training Time(s)                     Important Features  \n",
       "0     0.479  0.729          7.669941  [PAY_0, SEX_female, MARRIAGE_married]  "
      ]
     },
     "execution_count": 27,
     "metadata": {},
     "output_type": "execute_result"
    }
   ],
   "source": [
    "#getting all scores for Logistic Regression\n",
    "gbc_acctr = round(accuracy_score(y_train_pred,y_smote), 3)\n",
    "gbc_acc = round(accuracy_score(y_pred,y_test), 3)\n",
    "gbc_prec = round(precision_score(y_pred,y_test), 3)\n",
    "gbc_rec = round(recall_score(y_pred,y_test), 3)\n",
    "gbc_f1 = round(f1_score(y_pred,y_test), 3)\n",
    "gbc_roc = round(roc_auc_score(y_pred,y_test), 3)\n",
    "\n",
    "#Feature Importance\n",
    "imp_ft = pd.DataFrame(data={'Attribute': x_smote.columns, 'Importance': gbc.feature_importances_}).sort_values(by='Importance', ascending=False)\n",
    "gbc_feat = np.array(imp_ft['Attribute'][:3:])\n",
    "\n",
    "#Training time calculation\n",
    "gbc_time=stop-start\n",
    "\n",
    "results = pd.DataFrame([['Gradient Boosting', gbc_acctr, gbc_acc, gbc_prec, gbc_rec, gbc_f1, gbc_roc, gbc_time, gbc_feat]],\n",
    "            columns = ['Model', 'Train Accuracy', 'Test Accuracy', 'Precision', 'Recall', 'F1 Score','ROC', 'Training Time(s)','Important Features'])\n",
    "results"
   ]
  },
  {
   "cell_type": "code",
   "execution_count": 28,
   "metadata": {},
   "outputs": [
    {
     "name": "stdout",
     "output_type": "stream",
     "text": [
      "              precision    recall  f1-score   support\n",
      "\n",
      "           0       0.84      0.93      0.88      6985\n",
      "           1       0.62      0.39      0.48      1999\n",
      "\n",
      "    accuracy                           0.81      8984\n",
      "   macro avg       0.73      0.66      0.68      8984\n",
      "weighted avg       0.79      0.81      0.79      8984\n",
      "\n",
      "[[6494  491]\n",
      " [1214  785]]\n"
     ]
    }
   ],
   "source": [
    "# Confusion Matrix\n",
    "print(classification_report(y_test, y_pred))\n",
    "print(confusion_matrix(y_test, y_pred))"
   ]
  },
  {
   "cell_type": "code",
   "execution_count": 29,
   "metadata": {},
   "outputs": [
    {
     "data": {
      "image/png": "[encoded data removed]",
      "text/plain": [
       "<Figure size 432x288 with 1 Axes>"
      ]
     },
     "metadata": {
      "needs_background": "light"
     },
     "output_type": "display_data"
    }
   ],
   "source": [
    "#Plotting feature importance\n",
    "plt.barh(y=imp_ft['Attribute'], width=imp_ft['Importance'], color='#087E8B')\n",
    "plt.title('Feature importances obtained from coefficients', size=10)\n",
    "plt.show()"
   ]
  },
  {
   "cell_type": "markdown",
   "metadata": {
    "id": "PVtuI5Ep5rD2"
   },
   "source": [
    "### 7. **XG Boosting**"
   ]
  },
  {
   "cell_type": "code",
   "execution_count": 30,
   "metadata": {
    "colab": {
     "base_uri": "https://localhost:8080/"
    },
    "id": "5MR0R5br5VVC",
    "outputId": "94c496f4-210b-476b-a558-d07ed4962707"
   },
   "outputs": [
    {
     "name": "stdout",
     "output_type": "stream",
     "text": [
      "[23:37:50] WARNING: /home/conda/feedstock_root/build_artifacts/xgboost-split_1645117766796/work/src/learner.cc:1115: Starting in XGBoost 1.3.0, the default evaluation metric used with the objective 'binary:logistic' was changed from 'error' to 'logloss'. Explicitly set eval_metric if you'd like to restore the old behavior.\n"
     ]
    }
   ],
   "source": [
    "#fitting data into XG Boosting Classifier\n",
    "start = time.time()\n",
    "xgb = XGBClassifier()\n",
    "xgb.fit(x_smote,y_smote)\n",
    "stop = time.time()\n",
    "\n",
    "# predicting the y test observations\n",
    "y_pred = xgb.predict(x_test)\n",
    "y_train_pred = xgb.predict(x_smote)"
   ]
  },
  {
   "cell_type": "code",
   "execution_count": 31,
   "metadata": {
    "colab": {
     "base_uri": "https://localhost:8080/"
    },
    "id": "Sib751ga5VPH",
    "outputId": "992a7ea7-5824-4aab-8396-ead98b9d1f01"
   },
   "outputs": [
    {
     "data": {
      "text/html": [
       "<div>\n",
       "<style scoped>\n",
       "    .dataframe tbody tr th:only-of-type {\n",
       "        vertical-align: middle;\n",
       "    }\n",
       "\n",
       "    .dataframe tbody tr th {\n",
       "        vertical-align: top;\n",
       "    }\n",
       "\n",
       "    .dataframe thead th {\n",
       "        text-align: right;\n",
       "    }\n",
       "</style>\n",
       "<table border=\"1\" class=\"dataframe\">\n",
       "  <thead>\n",
       "    <tr style=\"text-align: right;\">\n",
       "      <th></th>\n",
       "      <th>Model</th>\n",
       "      <th>Train Accuracy</th>\n",
       "      <th>Test Accuracy</th>\n",
       "      <th>Precision</th>\n",
       "      <th>Recall</th>\n",
       "      <th>F1 Score</th>\n",
       "      <th>ROC</th>\n",
       "      <th>Training Time(s)</th>\n",
       "      <th>Important Features</th>\n",
       "    </tr>\n",
       "  </thead>\n",
       "  <tbody>\n",
       "    <tr>\n",
       "      <th>0</th>\n",
       "      <td>XG Boosting</td>\n",
       "      <td>0.93</td>\n",
       "      <td>0.802</td>\n",
       "      <td>0.374</td>\n",
       "      <td>0.585</td>\n",
       "      <td>0.456</td>\n",
       "      <td>0.711</td>\n",
       "      <td>3.541344</td>\n",
       "      <td>[PAY_0, MARRIAGE_married, EDUCATION_graduate s...</td>\n",
       "    </tr>\n",
       "  </tbody>\n",
       "</table>\n",
       "</div>"
      ],
      "text/plain": [
       "         Model  Train Accuracy  Test Accuracy  Precision  Recall  F1 Score  \\\n",
       "0  XG Boosting            0.93          0.802      0.374   0.585     0.456   \n",
       "\n",
       "     ROC  Training Time(s)                                 Important Features  \n",
       "0  0.711          3.541344  [PAY_0, MARRIAGE_married, EDUCATION_graduate s...  "
      ]
     },
     "execution_count": 31,
     "metadata": {},
     "output_type": "execute_result"
    }
   ],
   "source": [
    "#getting all scores for XG Boosting Classifier\n",
    "xgb_acctr = round(accuracy_score(y_train_pred,y_smote), 3)\n",
    "xgb_acc = round(accuracy_score(y_pred,y_test), 3)\n",
    "xgb_prec = round(precision_score(y_pred,y_test), 3)\n",
    "xgb_rec = round(recall_score(y_pred,y_test), 3)\n",
    "xgb_f1 = round(f1_score(y_pred,y_test), 3)\n",
    "xgb_roc = round(roc_auc_score(y_pred,y_test), 3)\n",
    "\n",
    "#Feature Importance\n",
    "imp_ft = pd.DataFrame(data={'Attribute': x_smote.columns, 'Importance': xgb.feature_importances_}).sort_values(by='Importance', ascending=False)\n",
    "xgb_feat = np.array(imp_ft['Attribute'][:3:])\n",
    "\n",
    "#Training time calculation\n",
    "xgb_time=stop-start\n",
    "\n",
    "results = pd.DataFrame([['XG Boosting', xgb_acctr, xgb_acc, xgb_prec, xgb_rec, xgb_f1, xgb_roc, xgb_time, xgb_feat]],\n",
    "            columns = ['Model', 'Train Accuracy', 'Test Accuracy', 'Precision', 'Recall', 'F1 Score','ROC', 'Training Time(s)','Important Features'])\n",
    "results"
   ]
  },
  {
   "cell_type": "code",
   "execution_count": 32,
   "metadata": {
    "scrolled": true
   },
   "outputs": [
    {
     "name": "stdout",
     "output_type": "stream",
     "text": [
      "              precision    recall  f1-score   support\n",
      "\n",
      "           0       0.84      0.92      0.88      6985\n",
      "           1       0.59      0.37      0.46      1999\n",
      "\n",
      "    accuracy                           0.80      8984\n",
      "   macro avg       0.71      0.65      0.67      8984\n",
      "weighted avg       0.78      0.80      0.78      8984\n",
      "\n",
      "[[6456  529]\n",
      " [1252  747]]\n"
     ]
    }
   ],
   "source": [
    "# Confusion Matrix\n",
    "print(classification_report(y_test, y_pred))\n",
    "print(confusion_matrix(y_test, y_pred))"
   ]
  },
  {
   "cell_type": "code",
   "execution_count": 33,
   "metadata": {},
   "outputs": [
    {
     "data": {
      "image/png": "[encoded data removed]",
      "text/plain": [
       "<Figure size 432x288 with 1 Axes>"
      ]
     },
     "metadata": {
      "needs_background": "light"
     },
     "output_type": "display_data"
    }
   ],
   "source": [
    "#Plotting feature importance\n",
    "plt.barh(y=imp_ft['Attribute'], width=imp_ft['Importance'], color='#087E8B')\n",
    "plt.title('XG Boost Feature importances', size=10)\n",
    "plt.show()"
   ]
  },
  {
   "cell_type": "markdown",
   "metadata": {
    "id": "PVtuI5Ep5rD2"
   },
   "source": [
    "### 8. **ADA Boosting**"
   ]
  },
  {
   "cell_type": "code",
   "execution_count": 34,
   "metadata": {
    "colab": {
     "base_uri": "https://localhost:8080/"
    },
    "id": "5MR0R5br5VVC",
    "outputId": "94c496f4-210b-476b-a558-d07ed4962707"
   },
   "outputs": [],
   "source": [
    "#fitting data into Ada Boosting Classifier\n",
    "start = time.time()\n",
    "ada = AdaBoostClassifier()\n",
    "ada.fit(x_smote,y_smote)\n",
    "stop = time.time()\n",
    "\n",
    "# predicting the y test observations\n",
    "y_pred = ada.predict(x_test)\n",
    "y_train_pred = ada.predict(x_smote)"
   ]
  },
  {
   "cell_type": "code",
   "execution_count": 35,
   "metadata": {
    "colab": {
     "base_uri": "https://localhost:8080/"
    },
    "id": "Sib751ga5VPH",
    "outputId": "992a7ea7-5824-4aab-8396-ead98b9d1f01"
   },
   "outputs": [
    {
     "data": {
      "text/html": [
       "<div>\n",
       "<style scoped>\n",
       "    .dataframe tbody tr th:only-of-type {\n",
       "        vertical-align: middle;\n",
       "    }\n",
       "\n",
       "    .dataframe tbody tr th {\n",
       "        vertical-align: top;\n",
       "    }\n",
       "\n",
       "    .dataframe thead th {\n",
       "        text-align: right;\n",
       "    }\n",
       "</style>\n",
       "<table border=\"1\" class=\"dataframe\">\n",
       "  <thead>\n",
       "    <tr style=\"text-align: right;\">\n",
       "      <th></th>\n",
       "      <th>Model</th>\n",
       "      <th>Train Accuracy</th>\n",
       "      <th>Test Accuracy</th>\n",
       "      <th>Precision</th>\n",
       "      <th>Recall</th>\n",
       "      <th>F1 Score</th>\n",
       "      <th>ROC</th>\n",
       "      <th>Training Time(s)</th>\n",
       "      <th>Important Features</th>\n",
       "    </tr>\n",
       "  </thead>\n",
       "  <tbody>\n",
       "    <tr>\n",
       "      <th>0</th>\n",
       "      <td>ADA Boosting</td>\n",
       "      <td>0.86</td>\n",
       "      <td>0.798</td>\n",
       "      <td>0.405</td>\n",
       "      <td>0.563</td>\n",
       "      <td>0.471</td>\n",
       "      <td>0.703</td>\n",
       "      <td>1.706944</td>\n",
       "      <td>[MARRIAGE_married, EDUCATION_university, SEX_f...</td>\n",
       "    </tr>\n",
       "  </tbody>\n",
       "</table>\n",
       "</div>"
      ],
      "text/plain": [
       "          Model  Train Accuracy  Test Accuracy  Precision  Recall  F1 Score  \\\n",
       "0  ADA Boosting            0.86          0.798      0.405   0.563     0.471   \n",
       "\n",
       "     ROC  Training Time(s)                                 Important Features  \n",
       "0  0.703          1.706944  [MARRIAGE_married, EDUCATION_university, SEX_f...  "
      ]
     },
     "execution_count": 35,
     "metadata": {},
     "output_type": "execute_result"
    }
   ],
   "source": [
    "#getting all scores for Ada Boosting Classifier\n",
    "ada_acctr = round(accuracy_score(y_train_pred,y_smote), 3)\n",
    "ada_acc = round(accuracy_score(y_pred,y_test), 3)\n",
    "ada_prec = round(precision_score(y_pred,y_test), 3)\n",
    "ada_rec = round(recall_score(y_pred,y_test), 3)\n",
    "ada_f1 = round(f1_score(y_pred,y_test), 3)\n",
    "ada_roc = round(roc_auc_score(y_pred,y_test), 3)\n",
    "\n",
    "#Feature Importance\n",
    "imp_ft = pd.DataFrame(data={'Attribute': x_smote.columns, 'Importance': ada.feature_importances_}).sort_values(by='Importance', ascending=False)\n",
    "ada_feat = np.array(imp_ft['Attribute'][:3:])\n",
    "\n",
    "#Training time calculation\n",
    "ada_time=stop-start\n",
    "\n",
    "results = pd.DataFrame([['ADA Boosting', ada_acctr, ada_acc, ada_prec, ada_rec, ada_f1, ada_roc, ada_time, ada_feat]],\n",
    "            columns = ['Model', 'Train Accuracy', 'Test Accuracy', 'Precision', 'Recall', 'F1 Score','ROC', 'Training Time(s)','Important Features'])\n",
    "results"
   ]
  },
  {
   "cell_type": "code",
   "execution_count": 36,
   "metadata": {
    "scrolled": true
   },
   "outputs": [
    {
     "name": "stdout",
     "output_type": "stream",
     "text": [
      "              precision    recall  f1-score   support\n",
      "\n",
      "           0       0.84      0.91      0.87      6985\n",
      "           1       0.56      0.41      0.47      1999\n",
      "\n",
      "    accuracy                           0.80      8984\n",
      "   macro avg       0.70      0.66      0.67      8984\n",
      "weighted avg       0.78      0.80      0.79      8984\n",
      "\n",
      "[[6356  629]\n",
      " [1189  810]]\n"
     ]
    }
   ],
   "source": [
    "# Confusion Matrix\n",
    "print(classification_report(y_test, y_pred))\n",
    "print(confusion_matrix(y_test, y_pred))"
   ]
  },
  {
   "cell_type": "code",
   "execution_count": 37,
   "metadata": {},
   "outputs": [
    {
     "data": {
      "image/png": "[encoded data removed]",
      "text/plain": [
       "<Figure size 432x288 with 1 Axes>"
      ]
     },
     "metadata": {
      "needs_background": "light"
     },
     "output_type": "display_data"
    }
   ],
   "source": [
    "#Plotting feature importance\n",
    "plt.barh(y=imp_ft['Attribute'], width=imp_ft['Importance'], color='#087E8B')\n",
    "plt.title('Feature importances for Ada Boost', size=10)\n",
    "plt.show()"
   ]
  },
  {
   "cell_type": "markdown",
   "metadata": {
    "id": "PVtuI5Ep5rD2"
   },
   "source": [
    "### 9. **Bagging Classifier**"
   ]
  },
  {
   "cell_type": "code",
   "execution_count": 38,
   "metadata": {
    "colab": {
     "base_uri": "https://localhost:8080/"
    },
    "id": "5MR0R5br5VVC",
    "outputId": "94c496f4-210b-476b-a558-d07ed4962707"
   },
   "outputs": [],
   "source": [
    "#fitting data into Bagging Classifier\n",
    "start = time.time()\n",
    "bag = BaggingClassifier()\n",
    "bag.fit(x_smote,y_smote)\n",
    "stop = time.time()\n",
    "\n",
    "# predicting the y test observations\n",
    "y_pred = bag.predict(x_test)\n",
    "y_train_pred = bag.predict(x_smote)"
   ]
  },
  {
   "cell_type": "code",
   "execution_count": 39,
   "metadata": {
    "colab": {
     "base_uri": "https://localhost:8080/"
    },
    "id": "Sib751ga5VPH",
    "outputId": "992a7ea7-5824-4aab-8396-ead98b9d1f01"
   },
   "outputs": [
    {
     "data": {
      "text/html": [
       "<div>\n",
       "<style scoped>\n",
       "    .dataframe tbody tr th:only-of-type {\n",
       "        vertical-align: middle;\n",
       "    }\n",
       "\n",
       "    .dataframe tbody tr th {\n",
       "        vertical-align: top;\n",
       "    }\n",
       "\n",
       "    .dataframe thead th {\n",
       "        text-align: right;\n",
       "    }\n",
       "</style>\n",
       "<table border=\"1\" class=\"dataframe\">\n",
       "  <thead>\n",
       "    <tr style=\"text-align: right;\">\n",
       "      <th></th>\n",
       "      <th>Model</th>\n",
       "      <th>Train Accuracy</th>\n",
       "      <th>Test Accuracy</th>\n",
       "      <th>Precision</th>\n",
       "      <th>Recall</th>\n",
       "      <th>F1 Score</th>\n",
       "      <th>ROC</th>\n",
       "      <th>Training Time(s)</th>\n",
       "      <th>Important Features</th>\n",
       "    </tr>\n",
       "  </thead>\n",
       "  <tbody>\n",
       "    <tr>\n",
       "      <th>0</th>\n",
       "      <td>Bagging Classifier</td>\n",
       "      <td>0.987</td>\n",
       "      <td>0.79</td>\n",
       "      <td>0.328</td>\n",
       "      <td>0.546</td>\n",
       "      <td>0.41</td>\n",
       "      <td>0.687</td>\n",
       "      <td>1.604088</td>\n",
       "      <td>[No coefficients available]</td>\n",
       "    </tr>\n",
       "  </tbody>\n",
       "</table>\n",
       "</div>"
      ],
      "text/plain": [
       "                Model  Train Accuracy  Test Accuracy  Precision  Recall  \\\n",
       "0  Bagging Classifier           0.987           0.79      0.328   0.546   \n",
       "\n",
       "   F1 Score    ROC  Training Time(s)           Important Features  \n",
       "0      0.41  0.687          1.604088  [No coefficients available]  "
      ]
     },
     "execution_count": 39,
     "metadata": {},
     "output_type": "execute_result"
    }
   ],
   "source": [
    "#getting all scores for Bagging Classifier\n",
    "bag_acctr = round(accuracy_score(y_train_pred,y_smote), 3)\n",
    "bag_acc = round(accuracy_score(y_pred,y_test), 3)\n",
    "bag_prec = round(precision_score(y_pred,y_test), 3)\n",
    "bag_rec = round(recall_score(y_pred,y_test), 3)\n",
    "bag_f1 = round(f1_score(y_pred,y_test), 3)\n",
    "bag_roc = round(roc_auc_score(y_pred,y_test), 3)\n",
    "\n",
    "#Feature Importance\n",
    "bag_feat = ['No coefficients available']\n",
    "\n",
    "#Training time calculation\n",
    "bag_time=stop-start\n",
    "\n",
    "results = pd.DataFrame([['Bagging Classifier', bag_acctr, bag_acc, bag_prec, bag_rec, bag_f1, bag_roc, bag_time, bag_feat]],\n",
    "            columns = ['Model', 'Train Accuracy', 'Test Accuracy', 'Precision', 'Recall', 'F1 Score','ROC', 'Training Time(s)','Important Features'])\n",
    "results"
   ]
  },
  {
   "cell_type": "code",
   "execution_count": 40,
   "metadata": {},
   "outputs": [
    {
     "name": "stdout",
     "output_type": "stream",
     "text": [
      "              precision    recall  f1-score   support\n",
      "\n",
      "           0       0.83      0.92      0.87      6985\n",
      "           1       0.55      0.33      0.41      1999\n",
      "\n",
      "    accuracy                           0.79      8984\n",
      "   macro avg       0.69      0.62      0.64      8984\n",
      "weighted avg       0.76      0.79      0.77      8984\n",
      "\n",
      "[[6441  544]\n",
      " [1344  655]]\n"
     ]
    }
   ],
   "source": [
    "# Confusion Matrix\n",
    "print(classification_report(y_test, y_pred))\n",
    "print(confusion_matrix(y_test, y_pred))"
   ]
  },
  {
   "cell_type": "markdown",
   "metadata": {
    "id": "QjzgCVofJAw2"
   },
   "source": [
    "### **Baseline Model Comparision**"
   ]
  },
  {
   "cell_type": "code",
   "execution_count": 41,
   "metadata": {
    "id": "hE3oJdoHI_FC"
   },
   "outputs": [],
   "source": [
    "all_classifiers = ['Logistic Regression', 'Support Vector Machines', 'KNN Classifier', 'Naive Bayes', 'Decision Tree', \n",
    "                   'Random Forest', 'Gradient Boosting', 'XG Boosting', 'Ada Boosting', 'Bagging algorithm']\n",
    "\n",
    "train_accuracy =  [log_acctr, svm_acctr, knn_acctr, nb_acctr, dtc_acctr, rfc_acctr, gbc_acctr, xgb_acctr, ada_acctr, bag_acctr]\n",
    "test_accuracy =   [log_acc, svm_acc, knn_acc, nb_acc, dtc_acc, rfc_acc, gbc_acc, xgb_acc, ada_acc, bag_acc]\n",
    "precision_score = [log_prec, svm_prec, knn_prec, nb_prec, dtc_prec, rfc_prec, gbc_prec, xgb_prec, ada_prec, bag_prec]\n",
    "recall_score =    [log_rec, svm_rec, knn_rec, nb_rec, dtc_rec, rfc_rec, gbc_rec, xgb_rec, ada_rec, bag_rec]\n",
    "f1_score =        [log_f1, svm_f1, knn_f1, nb_f1, dtc_f1, rfc_f1, gbc_f1, xgb_f1, ada_f1, bag_f1]\n",
    "roc_score =       [log_roc, svm_roc, knn_roc, nb_roc, dtc_roc, rfc_roc, gbc_roc, xgb_roc, ada_roc, bag_roc]\n",
    "training_time=[log_time, svm_time, knn_time, nb_time, dtc_time, rfc_time, gbc_time, xgb_time, ada_time, bag_time]\n",
    "feature_imp = [log_feat, svm_feat, knn_feat, nb_feat, dtc_feat, rfc_feat, gbc_feat, xgb_feat, ada_feat, bag_feat]"
   ]
  },
  {
   "cell_type": "code",
   "execution_count": 42,
   "metadata": {
    "id": "Mg2R56a-JVUY",
    "scrolled": true
   },
   "outputs": [
    {
     "data": {
      "text/html": [
       "<div>\n",
       "<style scoped>\n",
       "    .dataframe tbody tr th:only-of-type {\n",
       "        vertical-align: middle;\n",
       "    }\n",
       "\n",
       "    .dataframe tbody tr th {\n",
       "        vertical-align: top;\n",
       "    }\n",
       "\n",
       "    .dataframe thead th {\n",
       "        text-align: right;\n",
       "    }\n",
       "</style>\n",
       "<table border=\"1\" class=\"dataframe\">\n",
       "  <thead>\n",
       "    <tr style=\"text-align: right;\">\n",
       "      <th></th>\n",
       "      <th>Classifier</th>\n",
       "      <th>Train Accuracy</th>\n",
       "      <th>Test Accuracy</th>\n",
       "      <th>Precision</th>\n",
       "      <th>Recall</th>\n",
       "      <th>F1 Score</th>\n",
       "      <th>AUC</th>\n",
       "      <th>Training Time(s)</th>\n",
       "      <th>Important Features</th>\n",
       "    </tr>\n",
       "  </thead>\n",
       "  <tbody>\n",
       "    <tr>\n",
       "      <th>0</th>\n",
       "      <td>Logistic Regression</td>\n",
       "      <td>0.636</td>\n",
       "      <td>0.562</td>\n",
       "      <td>0.735</td>\n",
       "      <td>0.301</td>\n",
       "      <td>0.427</td>\n",
       "      <td>0.586</td>\n",
       "      <td>0.236149</td>\n",
       "      <td>[AGE_median, PAY_0, PAY_2]</td>\n",
       "    </tr>\n",
       "    <tr>\n",
       "      <th>1</th>\n",
       "      <td>Support Vector Machines</td>\n",
       "      <td>0.617</td>\n",
       "      <td>0.563</td>\n",
       "      <td>0.696</td>\n",
       "      <td>0.296</td>\n",
       "      <td>0.415</td>\n",
       "      <td>0.577</td>\n",
       "      <td>38.501741</td>\n",
       "      <td>[No coefficients available]</td>\n",
       "    </tr>\n",
       "    <tr>\n",
       "      <th>2</th>\n",
       "      <td>KNN Classifier</td>\n",
       "      <td>0.854</td>\n",
       "      <td>0.636</td>\n",
       "      <td>0.503</td>\n",
       "      <td>0.307</td>\n",
       "      <td>0.381</td>\n",
       "      <td>0.566</td>\n",
       "      <td>0.008602</td>\n",
       "      <td>[No coefficients available]</td>\n",
       "    </tr>\n",
       "    <tr>\n",
       "      <th>3</th>\n",
       "      <td>Naive Bayes</td>\n",
       "      <td>0.610</td>\n",
       "      <td>0.557</td>\n",
       "      <td>0.679</td>\n",
       "      <td>0.289</td>\n",
       "      <td>0.406</td>\n",
       "      <td>0.570</td>\n",
       "      <td>0.018440</td>\n",
       "      <td>[No coefficients available]</td>\n",
       "    </tr>\n",
       "    <tr>\n",
       "      <th>4</th>\n",
       "      <td>Decision Tree</td>\n",
       "      <td>0.999</td>\n",
       "      <td>0.717</td>\n",
       "      <td>0.408</td>\n",
       "      <td>0.376</td>\n",
       "      <td>0.391</td>\n",
       "      <td>0.601</td>\n",
       "      <td>0.350913</td>\n",
       "      <td>[PAY_0, SEX_female, EDUCATION_graduate school]</td>\n",
       "    </tr>\n",
       "    <tr>\n",
       "      <th>5</th>\n",
       "      <td>Random Forest</td>\n",
       "      <td>0.999</td>\n",
       "      <td>0.800</td>\n",
       "      <td>0.375</td>\n",
       "      <td>0.577</td>\n",
       "      <td>0.455</td>\n",
       "      <td>0.707</td>\n",
       "      <td>5.042793</td>\n",
       "      <td>[PAY_0, SEX_female, PAY_2]</td>\n",
       "    </tr>\n",
       "    <tr>\n",
       "      <th>6</th>\n",
       "      <td>Gradient Boosting</td>\n",
       "      <td>0.876</td>\n",
       "      <td>0.810</td>\n",
       "      <td>0.393</td>\n",
       "      <td>0.615</td>\n",
       "      <td>0.479</td>\n",
       "      <td>0.729</td>\n",
       "      <td>7.669941</td>\n",
       "      <td>[PAY_0, SEX_female, MARRIAGE_married]</td>\n",
       "    </tr>\n",
       "    <tr>\n",
       "      <th>7</th>\n",
       "      <td>XG Boosting</td>\n",
       "      <td>0.930</td>\n",
       "      <td>0.802</td>\n",
       "      <td>0.374</td>\n",
       "      <td>0.585</td>\n",
       "      <td>0.456</td>\n",
       "      <td>0.711</td>\n",
       "      <td>3.541344</td>\n",
       "      <td>[PAY_0, MARRIAGE_married, EDUCATION_graduate s...</td>\n",
       "    </tr>\n",
       "    <tr>\n",
       "      <th>8</th>\n",
       "      <td>Ada Boosting</td>\n",
       "      <td>0.860</td>\n",
       "      <td>0.798</td>\n",
       "      <td>0.405</td>\n",
       "      <td>0.563</td>\n",
       "      <td>0.471</td>\n",
       "      <td>0.703</td>\n",
       "      <td>1.706944</td>\n",
       "      <td>[MARRIAGE_married, EDUCATION_university, SEX_f...</td>\n",
       "    </tr>\n",
       "    <tr>\n",
       "      <th>9</th>\n",
       "      <td>Bagging algorithm</td>\n",
       "      <td>0.987</td>\n",
       "      <td>0.790</td>\n",
       "      <td>0.328</td>\n",
       "      <td>0.546</td>\n",
       "      <td>0.410</td>\n",
       "      <td>0.687</td>\n",
       "      <td>1.604088</td>\n",
       "      <td>[No coefficients available]</td>\n",
       "    </tr>\n",
       "  </tbody>\n",
       "</table>\n",
       "</div>"
      ],
      "text/plain": [
       "                Classifier  Train Accuracy  Test Accuracy  Precision  Recall  \\\n",
       "0      Logistic Regression           0.636          0.562      0.735   0.301   \n",
       "1  Support Vector Machines           0.617          0.563      0.696   0.296   \n",
       "2           KNN Classifier           0.854          0.636      0.503   0.307   \n",
       "3              Naive Bayes           0.610          0.557      0.679   0.289   \n",
       "4            Decision Tree           0.999          0.717      0.408   0.376   \n",
       "5            Random Forest           0.999          0.800      0.375   0.577   \n",
       "6        Gradient Boosting           0.876          0.810      0.393   0.615   \n",
       "7              XG Boosting           0.930          0.802      0.374   0.585   \n",
       "8             Ada Boosting           0.860          0.798      0.405   0.563   \n",
       "9        Bagging algorithm           0.987          0.790      0.328   0.546   \n",
       "\n",
       "   F1 Score    AUC  Training Time(s)  \\\n",
       "0     0.427  0.586          0.236149   \n",
       "1     0.415  0.577         38.501741   \n",
       "2     0.381  0.566          0.008602   \n",
       "3     0.406  0.570          0.018440   \n",
       "4     0.391  0.601          0.350913   \n",
       "5     0.455  0.707          5.042793   \n",
       "6     0.479  0.729          7.669941   \n",
       "7     0.456  0.711          3.541344   \n",
       "8     0.471  0.703          1.706944   \n",
       "9     0.410  0.687          1.604088   \n",
       "\n",
       "                                  Important Features  \n",
       "0                         [AGE_median, PAY_0, PAY_2]  \n",
       "1                        [No coefficients available]  \n",
       "2                        [No coefficients available]  \n",
       "3                        [No coefficients available]  \n",
       "4     [PAY_0, SEX_female, EDUCATION_graduate school]  \n",
       "5                         [PAY_0, SEX_female, PAY_2]  \n",
       "6              [PAY_0, SEX_female, MARRIAGE_married]  \n",
       "7  [PAY_0, MARRIAGE_married, EDUCATION_graduate s...  \n",
       "8  [MARRIAGE_married, EDUCATION_university, SEX_f...  \n",
       "9                        [No coefficients available]  "
      ]
     },
     "execution_count": 42,
     "metadata": {},
     "output_type": "execute_result"
    }
   ],
   "source": [
    "compare_df = pd.DataFrame({'Classifier':all_classifiers, 'Train Accuracy': train_accuracy, 'Test Accuracy': test_accuracy, \n",
    "                           'Precision': precision_score, 'Recall': recall_score, 'F1 Score': f1_score, \n",
    "                           'AUC': roc_score, 'Training Time(s)':training_time, 'Important Features':feature_imp})\n",
    "compare_df"
   ]
  },
  {
   "cell_type": "markdown",
   "metadata": {},
   "source": [
    "#### Conclusion from Basic model Implementation:\n",
    "\n",
    "1. From all basic models, Gradient Boosting classifier shows better performance across all metrics.\n",
    "2. Ensemble models shows better performance compared to base models.\n",
    "3. Train accuracy - There is huge difference between Train and Test Accuracy in tree based models which shows OverFitting\n",
    "\n",
    "We can try in the next part, Cross validation and Hyperparameter tuning techniques to reduce chances of overfitting and also increases performance of model."
   ]
  }
 ],
 "metadata": {
  "colab": {
   "collapsed_sections": [],
   "include_colab_link": true,
   "name": "Credit Card Default Prediction - Amol.ipynb",
   "provenance": []
  },
  "kernelspec": {
   "display_name": "Python 3 (ipykernel)",
   "language": "python",
   "name": "python3"
  },
  "language_info": {
   "codemirror_mode": {
    "name": "ipython",
    "version": 3
   },
   "file_extension": ".py",
   "mimetype": "text/x-python",
   "name": "python",
   "nbconvert_exporter": "python",
   "pygments_lexer": "ipython3",
   "version": "3.9.7"
  }
 },
 "nbformat": 4,
 "nbformat_minor": 4
}
